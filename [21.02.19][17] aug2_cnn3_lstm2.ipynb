{
 "cells": [
  {
   "cell_type": "code",
   "execution_count": 1,
   "metadata": {},
   "outputs": [],
   "source": [
    "import pandas as pd\n",
    "import numpy as np\n",
    "import random\n",
    "import matplotlib.pyplot as plt\n",
    "from tqdm import tqdm\n",
    "from glob import glob"
   ]
  },
  {
   "cell_type": "code",
   "execution_count": 2,
   "metadata": {},
   "outputs": [],
   "source": [
    "train = pd.read_csv('data/train_features.csv')\n",
    "train_labels = pd.read_csv('data/train_labels.csv')\n",
    "test = pd.read_csv('data/test_features.csv')\n",
    "submission = pd.read_csv('data/sample_submission.csv')"
   ]
  },
  {
   "cell_type": "code",
   "execution_count": 3,
   "metadata": {},
   "outputs": [
    {
     "name": "stdout",
     "output_type": "stream",
     "text": [
      "(1875000, 8) (3125, 3)\n"
     ]
    }
   ],
   "source": [
    "print(train.shape, train_labels.shape)"
   ]
  },
  {
   "cell_type": "code",
   "execution_count": 4,
   "metadata": {},
   "outputs": [
    {
     "name": "stderr",
     "output_type": "stream",
     "text": [
      "100%|█████████████████████████████████████████████████████████████████████████████| 3125/3125 [00:06<00:00, 447.20it/s]\n",
      "100%|██████████████████████████████████████████████████████████████████████████████| 782/782 [00:00<00:00, 1252.99it/s]\n"
     ]
    }
   ],
   "source": [
    "x_train = []\n",
    "\n",
    "for uid in tqdm(train['id'].unique()):\n",
    "    temp = np.array(train[train['id'] == uid].iloc[:,2:], np.float32).T\n",
    "    x_train.append(temp)\n",
    "\n",
    "x_train = np.array(x_train, np.float32)\n",
    "# x_train = x_train[:,:,:,np.newaxis]\n",
    "\n",
    "x_test = []\n",
    "\n",
    "for uid in tqdm(test['id'].unique()):\n",
    "    temp = np.array(test[test['id'] == uid].iloc[:,2:], np.float32).T\n",
    "    x_test.append(temp)\n",
    "\n",
    "x_test = np.array(x_test, np.float32)\n",
    "# x_test = x_test[:,:,:,np.newaxis]"
   ]
  },
  {
   "cell_type": "code",
   "execution_count": 5,
   "metadata": {},
   "outputs": [
    {
     "data": {
      "text/plain": [
       "(3125, 6, 600)"
      ]
     },
     "execution_count": 5,
     "metadata": {},
     "output_type": "execute_result"
    }
   ],
   "source": [
    "x_train.shape"
   ]
  },
  {
   "cell_type": "code",
   "execution_count": 6,
   "metadata": {},
   "outputs": [],
   "source": [
    "from sklearn.model_selection import train_test_split\n",
    "x_train, x_val, y_train, y_val = train_test_split(x_train, train_labels, test_size=0.2, shuffle = False)"
   ]
  },
  {
   "cell_type": "code",
   "execution_count": 7,
   "metadata": {},
   "outputs": [],
   "source": [
    "# validation x\n",
    "x_val= x_val.transpose(0, 2, 1)"
   ]
  },
  {
   "cell_type": "code",
   "execution_count": 8,
   "metadata": {},
   "outputs": [],
   "source": [
    "# train x\n",
    "def aug(data, uid, shift = 0):\n",
    "    shift_data = np.roll(data, shift, axis=2)\n",
    "    return shift_data"
   ]
  },
  {
   "cell_type": "code",
   "execution_count": 9,
   "metadata": {},
   "outputs": [
    {
     "name": "stdout",
     "output_type": "stream",
     "text": [
      "(2500, 6, 600)\n"
     ]
    }
   ],
   "source": [
    "shift_data = aug(x_train, 0 , int(random.random()*600))\n",
    "print(shift_data.shape)"
   ]
  },
  {
   "cell_type": "code",
   "execution_count": 10,
   "metadata": {},
   "outputs": [],
   "source": [
    "x=np.concatenate([x_train, shift_data], axis = 0)"
   ]
  },
  {
   "cell_type": "code",
   "execution_count": 11,
   "metadata": {},
   "outputs": [
    {
     "data": {
      "text/plain": [
       "(5000, 600, 6)"
      ]
     },
     "execution_count": 11,
     "metadata": {},
     "output_type": "execute_result"
    }
   ],
   "source": [
    "x = x.transpose(0,2,1)\n",
    "x.shape"
   ]
  },
  {
   "cell_type": "code",
   "execution_count": 12,
   "metadata": {},
   "outputs": [
    {
     "data": {
      "text/plain": [
       "(5000, 61)"
      ]
     },
     "execution_count": 12,
     "metadata": {},
     "output_type": "execute_result"
    }
   ],
   "source": [
    "import tensorflow as tf\n",
    "import numpy as np\n",
    "\n",
    "y = tf.keras.utils.to_categorical(y_train['label']) \n",
    "y = np.concatenate([y, y], axis = 0)\n",
    "y.shape"
   ]
  },
  {
   "cell_type": "code",
   "execution_count": 13,
   "metadata": {},
   "outputs": [
    {
     "data": {
      "text/plain": [
       "(625, 61)"
      ]
     },
     "execution_count": 13,
     "metadata": {},
     "output_type": "execute_result"
    }
   ],
   "source": [
    "y_val = tf.keras.utils.to_categorical(y_val['label']) \n",
    "y_val.shape"
   ]
  },
  {
   "cell_type": "code",
   "execution_count": 14,
   "metadata": {},
   "outputs": [
    {
     "data": {
      "text/plain": [
       "(625, 61)"
      ]
     },
     "execution_count": 14,
     "metadata": {},
     "output_type": "execute_result"
    }
   ],
   "source": [
    "x_val.shape\n",
    "y_val.shape"
   ]
  },
  {
   "cell_type": "code",
   "execution_count": 15,
   "metadata": {},
   "outputs": [
    {
     "name": "stdout",
     "output_type": "stream",
     "text": [
      "Epoch 1/100\n",
      "157/157 [==============================] - 26s 125ms/step - loss: 2.7680 - accuracy: 0.4807 - val_loss: 2.2819 - val_accuracy: 0.5280\n",
      "Epoch 2/100\n",
      "157/157 [==============================] - 21s 133ms/step - loss: 2.3750 - accuracy: 0.4959 - val_loss: 2.1152 - val_accuracy: 0.5376\n",
      "Epoch 3/100\n",
      "157/157 [==============================] - 22s 142ms/step - loss: 2.0928 - accuracy: 0.5253 - val_loss: 1.9174 - val_accuracy: 0.5504\n",
      "Epoch 4/100\n",
      "157/157 [==============================] - 25s 157ms/step - loss: 1.9793 - accuracy: 0.5355 - val_loss: 1.9091 - val_accuracy: 0.5520\n",
      "Epoch 5/100\n",
      "157/157 [==============================] - 27s 171ms/step - loss: 1.7808 - accuracy: 0.5718 - val_loss: 1.6725 - val_accuracy: 0.6000\n",
      "Epoch 6/100\n",
      "157/157 [==============================] - 28s 180ms/step - loss: 1.6624 - accuracy: 0.5763 - val_loss: 2.1687 - val_accuracy: 0.5488\n",
      "Epoch 7/100\n",
      "157/157 [==============================] - 28s 180ms/step - loss: 2.0208 - accuracy: 0.5449 - val_loss: 1.6194 - val_accuracy: 0.6064\n",
      "Epoch 8/100\n",
      "157/157 [==============================] - 28s 179ms/step - loss: 1.6053 - accuracy: 0.5960 - val_loss: 1.5641 - val_accuracy: 0.6224\n",
      "Epoch 9/100\n",
      "157/157 [==============================] - 27s 172ms/step - loss: 1.4128 - accuracy: 0.6445 - val_loss: 1.5269 - val_accuracy: 0.6064\n",
      "Epoch 10/100\n",
      "157/157 [==============================] - 28s 179ms/step - loss: 1.4415 - accuracy: 0.6125 - val_loss: 1.5221 - val_accuracy: 0.6112\n",
      "Epoch 11/100\n",
      "157/157 [==============================] - 27s 175ms/step - loss: 1.3724 - accuracy: 0.6375 - val_loss: 1.3658 - val_accuracy: 0.6480\n",
      "Epoch 12/100\n",
      "157/157 [==============================] - 28s 177ms/step - loss: 1.1832 - accuracy: 0.6684 - val_loss: 1.2882 - val_accuracy: 0.6640\n",
      "Epoch 13/100\n",
      "157/157 [==============================] - 28s 177ms/step - loss: 1.1214 - accuracy: 0.6791 - val_loss: 1.4697 - val_accuracy: 0.6224\n",
      "Epoch 14/100\n",
      "157/157 [==============================] - 24s 154ms/step - loss: 1.1087 - accuracy: 0.6882 - val_loss: 1.2235 - val_accuracy: 0.6800\n",
      "Epoch 15/100\n",
      "157/157 [==============================] - 27s 171ms/step - loss: 0.9918 - accuracy: 0.7195 - val_loss: 1.3231 - val_accuracy: 0.6512\n",
      "Epoch 16/100\n",
      "157/157 [==============================] - 29s 186ms/step - loss: 0.9691 - accuracy: 0.7135 - val_loss: 1.1189 - val_accuracy: 0.6944\n",
      "Epoch 17/100\n",
      "157/157 [==============================] - 29s 182ms/step - loss: 0.8248 - accuracy: 0.7540 - val_loss: 1.1190 - val_accuracy: 0.6912TA: 14s - ETA: 1s - loss: 0.822\n",
      "Epoch 18/100\n",
      "157/157 [==============================] - 28s 176ms/step - loss: 0.8228 - accuracy: 0.7554 - val_loss: 1.1133 - val_accuracy: 0.6912\n",
      "Epoch 19/100\n",
      "157/157 [==============================] - 28s 176ms/step - loss: 0.7823 - accuracy: 0.7696 - val_loss: 1.0401 - val_accuracy: 0.7024\n",
      "Epoch 20/100\n",
      "157/157 [==============================] - 26s 167ms/step - loss: 0.7212 - accuracy: 0.7854 - val_loss: 1.0308 - val_accuracy: 0.7200\n",
      "Epoch 21/100\n",
      "157/157 [==============================] - 27s 173ms/step - loss: 0.6791 - accuracy: 0.7893 - val_loss: 1.0205 - val_accuracy: 0.7120\n",
      "Epoch 22/100\n",
      "157/157 [==============================] - 22s 143ms/step - loss: 0.6224 - accuracy: 0.7997 - val_loss: 1.0142 - val_accuracy: 0.7136\n",
      "Epoch 23/100\n",
      "157/157 [==============================] - 25s 162ms/step - loss: 0.5714 - accuracy: 0.8243 - val_loss: 1.0574 - val_accuracy: 0.7152\n",
      "Epoch 24/100\n",
      "157/157 [==============================] - 27s 175ms/step - loss: 0.6370 - accuracy: 0.8036 - val_loss: 1.0671 - val_accuracy: 0.7088\n",
      "Epoch 25/100\n",
      "157/157 [==============================] - 26s 167ms/step - loss: 0.5102 - accuracy: 0.8381 - val_loss: 1.0316 - val_accuracy: 0.7184\n",
      "Epoch 26/100\n",
      "157/157 [==============================] - 26s 168ms/step - loss: 0.5166 - accuracy: 0.8386 - val_loss: 0.9814 - val_accuracy: 0.7328\n",
      "Epoch 27/100\n",
      "157/157 [==============================] - 25s 163ms/step - loss: 0.4402 - accuracy: 0.8559 - val_loss: 0.9220 - val_accuracy: 0.7456\n",
      "Epoch 28/100\n",
      "157/157 [==============================] - 25s 160ms/step - loss: 0.4475 - accuracy: 0.8598 - val_loss: 0.9894 - val_accuracy: 0.7296\n",
      "Epoch 29/100\n",
      "157/157 [==============================] - 29s 186ms/step - loss: 0.4271 - accuracy: 0.8716 - val_loss: 0.9749 - val_accuracy: 0.7264\n",
      "Epoch 30/100\n",
      "157/157 [==============================] - 20s 127ms/step - loss: 0.3673 - accuracy: 0.8883 - val_loss: 1.0146 - val_accuracy: 0.7232\n",
      "Epoch 31/100\n",
      "157/157 [==============================] - 24s 151ms/step - loss: 0.3881 - accuracy: 0.8807 - val_loss: 1.0560 - val_accuracy: 0.7264\n",
      "Epoch 32/100\n",
      "157/157 [==============================] - 26s 164ms/step - loss: 0.3728 - accuracy: 0.8843 - val_loss: 0.9871 - val_accuracy: 0.7248\n",
      "Epoch 33/100\n",
      "157/157 [==============================] - 28s 180ms/step - loss: 0.3255 - accuracy: 0.9014 - val_loss: 0.9950 - val_accuracy: 0.7264\n",
      "Epoch 34/100\n",
      "157/157 [==============================] - 28s 180ms/step - loss: 0.2446 - accuracy: 0.9355 - val_loss: 0.9552 - val_accuracy: 0.7456\n",
      "Epoch 35/100\n",
      "157/157 [==============================] - 23s 147ms/step - loss: 0.2814 - accuracy: 0.9148 - val_loss: 1.0530 - val_accuracy: 0.7168\n",
      "Epoch 36/100\n",
      "157/157 [==============================] - 25s 158ms/step - loss: 0.3394 - accuracy: 0.8941 - val_loss: 1.1294 - val_accuracy: 0.7248\n",
      "Epoch 37/100\n",
      "157/157 [==============================] - 29s 186ms/step - loss: 0.2929 - accuracy: 0.9027 - val_loss: 0.9447 - val_accuracy: 0.7328\n",
      "Epoch 00037: early stopping\n"
     ]
    }
   ],
   "source": [
    "# 0. 사용할 패키지 불러오기\n",
    "from keras.datasets import reuters\n",
    "from keras.utils import np_utils\n",
    "from keras.preprocessing import sequence\n",
    "from keras.models import Sequential\n",
    "from keras.layers import Dense, Embedding, LSTM, Conv1D, GlobalMaxPooling1D, Conv2D, MaxPooling1D, Bidirectional, GRU\n",
    "from keras.layers import Flatten\n",
    "\n",
    "# 2. 모델 구성하기\n",
    "model = Sequential()\n",
    "model.add(Conv1D(128, 3, padding='same', activation='relu', strides=1))\n",
    "model.add(MaxPooling1D(pool_size=2))\n",
    "model.add(Conv1D(128, 3, padding='same', activation='relu', strides=1))\n",
    "model.add(MaxPooling1D(pool_size=2))\n",
    "model.add(Conv1D(128, 3, padding='same', activation='relu', strides=1))\n",
    "model.add(MaxPooling1D(pool_size=2))\n",
    "model.add(Bidirectional(LSTM(32, return_sequences = True)))\n",
    "model.add(Bidirectional(LSTM(64, return_sequences = False)))\n",
    "model.add(Dense(61, activation='softmax'))\n",
    "\n",
    "# 3. 모델 학습과정 설정하기\n",
    "model.compile(loss='categorical_crossentropy', optimizer='adam', metrics=['accuracy'])\n",
    "\n",
    "from keras.callbacks import EarlyStopping\n",
    "es = EarlyStopping(monitor='val_loss', mode='min', verbose=1, patience=10)\n",
    "\n",
    "# 4. 모델 학습시키기\n",
    "hist = model.fit(x, y, epochs=100, batch_size=32, callbacks = [es],  validation_data = (x_val, y_val))"
   ]
  },
  {
   "cell_type": "code",
   "execution_count": 16,
   "metadata": {},
   "outputs": [
    {
     "data": {
      "image/png": "[encoded data removed]",
      "text/plain": [
       "<Figure size 432x288 with 2 Axes>"
      ]
     },
     "metadata": {
      "needs_background": "light"
     },
     "output_type": "display_data"
    }
   ],
   "source": [
    "%matplotlib inline\n",
    "import matplotlib.pyplot as plt\n",
    "\n",
    "fig, loss_ax = plt.subplots()\n",
    "\n",
    "acc_ax = loss_ax.twinx()\n",
    "\n",
    "loss_ax.plot(hist.history['loss'], 'y', label='train loss')\n",
    "loss_ax.plot(hist.history['val_loss'], 'r', label='val loss')\n",
    "\n",
    "acc_ax.plot(hist.history['accuracy'], 'b', label='train acc')\n",
    "acc_ax.plot(hist.history['val_accuracy'], 'g', label='val acc')\n",
    "\n",
    "loss_ax.set_xlabel('epoch')\n",
    "loss_ax.set_ylabel('loss')\n",
    "acc_ax.set_ylabel('accuray')\n",
    "\n",
    "loss_ax.legend(loc='upper left')\n",
    "acc_ax.legend(loc='lower left')\n",
    "\n",
    "plt.show()"
   ]
  },
  {
   "cell_type": "code",
   "execution_count": 17,
   "metadata": {},
   "outputs": [],
   "source": [
    "test_X=tf.reshape(np.array(test.iloc[:,2:]),[-1, 600, 6])\n",
    "prediction=model.predict(test_X)\n",
    "submission.iloc[:,1:]=prediction\n",
    "submission.to_csv('aug_cnn3_bilstm2_v2.csv', index=False)"
   ]
  },
  {
   "cell_type": "code",
   "execution_count": 18,
   "metadata": {},
   "outputs": [
    {
     "name": "stdout",
     "output_type": "stream",
     "text": [
      "Epoch 1/100\n",
      "157/157 [==============================] - 175s 629ms/step - loss: 2.8024 - accuracy: 0.4782 - val_loss: 2.4470 - val_accuracy: 0.5280\n",
      "Epoch 2/100\n",
      "157/157 [==============================] - 75s 481ms/step - loss: 2.2378 - accuracy: 0.5204 - val_loss: 2.0341 - val_accuracy: 0.5408\n",
      "Epoch 3/100\n",
      "157/157 [==============================] - 66s 416ms/step - loss: 2.0945 - accuracy: 0.5187 - val_loss: 1.9577 - val_accuracy: 0.5488\n",
      "Epoch 4/100\n",
      "157/157 [==============================] - 63s 399ms/step - loss: 1.9622 - accuracy: 0.5394 - val_loss: 1.9064 - val_accuracy: 0.5664\n",
      "Epoch 5/100\n",
      "157/157 [==============================] - 55s 349ms/step - loss: 1.8545 - accuracy: 0.5523 - val_loss: 1.8298 - val_accuracy: 0.5632\n",
      "Epoch 6/100\n",
      "157/157 [==============================] - 62s 398ms/step - loss: 1.7068 - accuracy: 0.5852 - val_loss: 1.6109 - val_accuracy: 0.6208\n",
      "Epoch 7/100\n",
      "157/157 [==============================] - 54s 345ms/step - loss: 1.6259 - accuracy: 0.5774 - val_loss: 1.5058 - val_accuracy: 0.6272\n",
      "Epoch 8/100\n",
      "157/157 [==============================] - 57s 365ms/step - loss: 1.4153 - accuracy: 0.6246 - val_loss: 1.5340 - val_accuracy: 0.6176\n",
      "Epoch 9/100\n",
      "157/157 [==============================] - 55s 353ms/step - loss: 1.4791 - accuracy: 0.6044 - val_loss: 1.4392 - val_accuracy: 0.6224\n",
      "Epoch 10/100\n",
      "157/157 [==============================] - 55s 351ms/step - loss: 1.3445 - accuracy: 0.6288 - val_loss: 1.3707 - val_accuracy: 0.6496\n",
      "Epoch 11/100\n",
      "157/157 [==============================] - 49s 314ms/step - loss: 1.2264 - accuracy: 0.6548 - val_loss: 1.2859 - val_accuracy: 0.6624\n",
      "Epoch 12/100\n",
      "157/157 [==============================] - 56s 359ms/step - loss: 1.1619 - accuracy: 0.6641 - val_loss: 1.2353 - val_accuracy: 0.6656\n",
      "Epoch 13/100\n",
      "157/157 [==============================] - 51s 325ms/step - loss: 1.0433 - accuracy: 0.7078 - val_loss: 1.2314 - val_accuracy: 0.6672\n",
      "Epoch 14/100\n",
      "157/157 [==============================] - 55s 352ms/step - loss: 1.0250 - accuracy: 0.6978 - val_loss: 1.2045 - val_accuracy: 0.6848\n",
      "Epoch 15/100\n",
      "157/157 [==============================] - 54s 342ms/step - loss: 0.9964 - accuracy: 0.7065 - val_loss: 1.1828 - val_accuracy: 0.6912\n",
      "Epoch 16/100\n",
      "157/157 [==============================] - 51s 326ms/step - loss: 0.9324 - accuracy: 0.7260 - val_loss: 1.1654 - val_accuracy: 0.6912\n",
      "Epoch 17/100\n",
      "157/157 [==============================] - 53s 341ms/step - loss: 0.8581 - accuracy: 0.7476 - val_loss: 1.0775 - val_accuracy: 0.7024\n",
      "Epoch 18/100\n",
      "157/157 [==============================] - 52s 331ms/step - loss: 0.7858 - accuracy: 0.7660 - val_loss: 1.0551 - val_accuracy: 0.7136\n",
      "Epoch 19/100\n",
      "157/157 [==============================] - 51s 326ms/step - loss: 0.7447 - accuracy: 0.7799 - val_loss: 1.0625 - val_accuracy: 0.7008\n",
      "Epoch 20/100\n",
      "157/157 [==============================] - 47s 297ms/step - loss: 0.7319 - accuracy: 0.7822 - val_loss: 1.0417 - val_accuracy: 0.7280\n",
      "Epoch 21/100\n",
      "157/157 [==============================] - 52s 331ms/step - loss: 0.6723 - accuracy: 0.7918 - val_loss: 1.0235 - val_accuracy: 0.7104\n",
      "Epoch 22/100\n",
      "157/157 [==============================] - 51s 322ms/step - loss: 0.6557 - accuracy: 0.8002 - val_loss: 1.0066 - val_accuracy: 0.7248\n",
      "Epoch 23/100\n",
      "157/157 [==============================] - 49s 313ms/step - loss: 0.5904 - accuracy: 0.8185 - val_loss: 0.9339 - val_accuracy: 0.7376\n",
      "Epoch 24/100\n",
      "157/157 [==============================] - 50s 317ms/step - loss: 0.5680 - accuracy: 0.8227 - val_loss: 0.9980 - val_accuracy: 0.7248\n",
      "Epoch 25/100\n",
      "157/157 [==============================] - 50s 317ms/step - loss: 0.4928 - accuracy: 0.8501 - val_loss: 0.9921 - val_accuracy: 0.7376\n",
      "Epoch 26/100\n",
      "157/157 [==============================] - 44s 283ms/step - loss: 0.4549 - accuracy: 0.8673 - val_loss: 0.9680 - val_accuracy: 0.7232\n",
      "Epoch 27/100\n",
      "157/157 [==============================] - 50s 322ms/step - loss: 0.4236 - accuracy: 0.8644 - val_loss: 0.9510 - val_accuracy: 0.7600\n",
      "Epoch 28/100\n",
      "157/157 [==============================] - 52s 329ms/step - loss: 0.4280 - accuracy: 0.8647 - val_loss: 0.9388 - val_accuracy: 0.7408\n",
      "Epoch 29/100\n",
      "157/157 [==============================] - 52s 334ms/step - loss: 0.3715 - accuracy: 0.8839 - val_loss: 0.9608 - val_accuracy: 0.7408\n",
      "Epoch 30/100\n",
      "157/157 [==============================] - 48s 306ms/step - loss: 0.3572 - accuracy: 0.8841 - val_loss: 0.9482 - val_accuracy: 0.7360\n",
      "Epoch 31/100\n",
      "157/157 [==============================] - 48s 306ms/step - loss: 0.3248 - accuracy: 0.8975 - val_loss: 0.9511 - val_accuracy: 0.7344\n",
      "Epoch 32/100\n",
      "157/157 [==============================] - 50s 320ms/step - loss: 0.3845 - accuracy: 0.8762 - val_loss: 1.0078 - val_accuracy: 0.7216\n",
      "Epoch 33/100\n",
      "157/157 [==============================] - 49s 310ms/step - loss: 0.3080 - accuracy: 0.9090 - val_loss: 0.9857 - val_accuracy: 0.7360\n",
      "Epoch 00033: early stopping\n"
     ]
    }
   ],
   "source": [
    "# 0. 사용할 패키지 불러오기\n",
    "from keras.datasets import reuters\n",
    "from keras.utils import np_utils\n",
    "from keras.preprocessing import sequence\n",
    "from keras.models import Sequential\n",
    "from keras.layers import Dense, Embedding, LSTM, Conv1D, GlobalMaxPooling1D, Conv2D, MaxPooling1D, Bidirectional, GRU\n",
    "from keras.layers import Flatten\n",
    "\n",
    "# 2. 모델 구성하기\n",
    "model = Sequential()\n",
    "model.add(Conv1D(128, 3, padding='same', activation='relu', strides=1))\n",
    "model.add(MaxPooling1D(pool_size=2))\n",
    "model.add(Conv1D(128, 3, padding='same', activation='relu', strides=1))\n",
    "model.add(MaxPooling1D(pool_size=2))\n",
    "model.add(Conv1D(256, 3, padding='same', activation='relu', strides=1))\n",
    "model.add(MaxPooling1D(pool_size=2))\n",
    "model.add(Bidirectional(LSTM(32, return_sequences = True)))\n",
    "model.add(Bidirectional(LSTM(64, return_sequences = False)))\n",
    "model.add(Dense(61, activation='softmax'))\n",
    "\n",
    "# 3. 모델 학습과정 설정하기\n",
    "model.compile(loss='categorical_crossentropy', optimizer='adam', metrics=['accuracy'])\n",
    "\n",
    "from keras.callbacks import EarlyStopping\n",
    "es = EarlyStopping(monitor='val_loss', mode='min', verbose=1, patience=10)\n",
    "\n",
    "# 4. 모델 학습시키기\n",
    "hist = model.fit(x, y, epochs=100, batch_size=32, callbacks = [es],  validation_data = (x_val, y_val))"
   ]
  },
  {
   "cell_type": "code",
   "execution_count": 19,
   "metadata": {},
   "outputs": [
    {
     "data": {
      "image/png": "[encoded data removed]",
      "text/plain": [
       "<Figure size 432x288 with 2 Axes>"
      ]
     },
     "metadata": {
      "needs_background": "light"
     },
     "output_type": "display_data"
    }
   ],
   "source": [
    "%matplotlib inline\n",
    "import matplotlib.pyplot as plt\n",
    "\n",
    "fig, loss_ax = plt.subplots()\n",
    "\n",
    "acc_ax = loss_ax.twinx()\n",
    "\n",
    "loss_ax.plot(hist.history['loss'], 'y', label='train loss')\n",
    "loss_ax.plot(hist.history['val_loss'], 'r', label='val loss')\n",
    "\n",
    "acc_ax.plot(hist.history['accuracy'], 'b', label='train acc')\n",
    "acc_ax.plot(hist.history['val_accuracy'], 'g', label='val acc')\n",
    "\n",
    "loss_ax.set_xlabel('epoch')\n",
    "loss_ax.set_ylabel('loss')\n",
    "acc_ax.set_ylabel('accuray')\n",
    "\n",
    "loss_ax.legend(loc='upper left')\n",
    "acc_ax.legend(loc='lower left')\n",
    "\n",
    "plt.show()"
   ]
  },
  {
   "cell_type": "code",
   "execution_count": null,
   "metadata": {},
   "outputs": [],
   "source": [
    "test_X=tf.reshape(np.array(test.iloc[:,2:]),[-1, 600, 6])\n",
    "prediction=model.predict(test_X)\n",
    "submission.iloc[:,1:]=prediction\n",
    "submission.to_csv('.csv', index=False)"
   ]
  },
  {
   "cell_type": "code",
   "execution_count": 20,
   "metadata": {},
   "outputs": [
    {
     "data": {
      "text/plain": [
       "(5000, 600, 6)"
      ]
     },
     "execution_count": 20,
     "metadata": {},
     "output_type": "execute_result"
    }
   ],
   "source": [
    "x.shape"
   ]
  },
  {
   "cell_type": "code",
   "execution_count": 21,
   "metadata": {},
   "outputs": [
    {
     "name": "stdout",
     "output_type": "stream",
     "text": [
      "Epoch 1/100\n",
      "157/157 [==============================] - 26s 135ms/step - loss: 2.7808 - accuracy: 0.4687 - val_loss: 2.1642 - val_accuracy: 0.5392\n",
      "Epoch 2/100\n",
      "157/157 [==============================] - 19s 121ms/step - loss: 2.2277 - accuracy: 0.5062 - val_loss: 1.8248 - val_accuracy: 0.5680\n",
      "Epoch 3/100\n",
      "157/157 [==============================] - 26s 163ms/step - loss: 1.7741 - accuracy: 0.5604 - val_loss: 1.5899 - val_accuracy: 0.6064\n",
      "Epoch 4/100\n",
      "157/157 [==============================] - 28s 177ms/step - loss: 1.4998 - accuracy: 0.6143 - val_loss: 1.3328 - val_accuracy: 0.6464\n",
      "Epoch 5/100\n",
      "157/157 [==============================] - 26s 165ms/step - loss: 1.2033 - accuracy: 0.6786 - val_loss: 1.2415 - val_accuracy: 0.6848\n",
      "Epoch 6/100\n",
      "157/157 [==============================] - 29s 186ms/step - loss: 1.0956 - accuracy: 0.6951 - val_loss: 1.1233 - val_accuracy: 0.6976\n",
      "Epoch 7/100\n",
      "157/157 [==============================] - 33s 210ms/step - loss: 0.9573 - accuracy: 0.7332 - val_loss: 1.0970 - val_accuracy: 0.7008\n",
      "Epoch 8/100\n",
      "157/157 [==============================] - 37s 236ms/step - loss: 0.8923 - accuracy: 0.7432 - val_loss: 1.1045 - val_accuracy: 0.6832\n",
      "Epoch 9/100\n",
      "157/157 [==============================] - 43s 274ms/step - loss: 0.7957 - accuracy: 0.7712 - val_loss: 1.0351 - val_accuracy: 0.7088\n",
      "Epoch 10/100\n",
      "157/157 [==============================] - 38s 242ms/step - loss: 0.7552 - accuracy: 0.7766 - val_loss: 1.0016 - val_accuracy: 0.7104\n",
      "Epoch 11/100\n",
      "157/157 [==============================] - 31s 196ms/step - loss: 0.6420 - accuracy: 0.8170 - val_loss: 0.9936 - val_accuracy: 0.7296\n",
      "Epoch 12/100\n",
      "157/157 [==============================] - 47s 298ms/step - loss: 0.6120 - accuracy: 0.8183 - val_loss: 1.0097 - val_accuracy: 0.7248\n",
      "Epoch 13/100\n",
      "157/157 [==============================] - 73s 462ms/step - loss: 0.5887 - accuracy: 0.8221 - val_loss: 0.9347 - val_accuracy: 0.7408\n",
      "Epoch 14/100\n",
      "157/157 [==============================] - 65s 411ms/step - loss: 0.4881 - accuracy: 0.8582 - val_loss: 0.9657 - val_accuracy: 0.7376\n",
      "Epoch 15/100\n",
      "157/157 [==============================] - 65s 412ms/step - loss: 0.4533 - accuracy: 0.8689 - val_loss: 0.9381 - val_accuracy: 0.7504\n",
      "Epoch 16/100\n",
      "157/157 [==============================] - 63s 403ms/step - loss: 0.4102 - accuracy: 0.8765 - val_loss: 0.9174 - val_accuracy: 0.7344\n",
      "Epoch 17/100\n",
      "157/157 [==============================] - 67s 425ms/step - loss: 0.3912 - accuracy: 0.8871 - val_loss: 0.9710 - val_accuracy: 0.7392\n",
      "Epoch 18/100\n",
      "157/157 [==============================] - 63s 401ms/step - loss: 0.3856 - accuracy: 0.8841 - val_loss: 0.9507 - val_accuracy: 0.7408\n",
      "Epoch 19/100\n",
      "157/157 [==============================] - 71s 453ms/step - loss: 0.2902 - accuracy: 0.9183 - val_loss: 0.9691 - val_accuracy: 0.7376\n",
      "Epoch 20/100\n",
      "157/157 [==============================] - 69s 436ms/step - loss: 0.2642 - accuracy: 0.9270 - val_loss: 0.9360 - val_accuracy: 0.7696\n",
      "Epoch 21/100\n",
      "157/157 [==============================] - 66s 420ms/step - loss: 0.2493 - accuracy: 0.9283 - val_loss: 0.9819 - val_accuracy: 0.7344\n",
      "Epoch 22/100\n",
      "157/157 [==============================] - 66s 421ms/step - loss: 0.2282 - accuracy: 0.9397 - val_loss: 0.9598 - val_accuracy: 0.7520\n",
      "Epoch 23/100\n",
      "157/157 [==============================] - 67s 430ms/step - loss: 0.2102 - accuracy: 0.9441 - val_loss: 0.9609 - val_accuracy: 0.7552\n",
      "Epoch 24/100\n",
      "157/157 [==============================] - 66s 423ms/step - loss: 0.1823 - accuracy: 0.9510 - val_loss: 0.9919 - val_accuracy: 0.7648\n",
      "Epoch 25/100\n",
      "157/157 [==============================] - 76s 486ms/step - loss: 0.1765 - accuracy: 0.9505 - val_loss: 1.0376 - val_accuracy: 0.7520\n",
      "Epoch 26/100\n",
      "157/157 [==============================] - 68s 435ms/step - loss: 0.1961 - accuracy: 0.9510 - val_loss: 0.9769 - val_accuracy: 0.7536\n",
      "Epoch 00026: early stopping\n"
     ]
    }
   ],
   "source": [
    "# 0. 사용할 패키지 불러오기\n",
    "from keras.datasets import reuters\n",
    "from keras.utils import np_utils\n",
    "from keras.preprocessing import sequence\n",
    "from keras.models import Sequential\n",
    "from keras.layers import Dense, Embedding, LSTM, Conv1D, GlobalMaxPooling1D, Conv2D, MaxPooling1D, Bidirectional, GRU\n",
    "from keras.layers import Flatten\n",
    "\n",
    "# 2. 모델 구성하기\n",
    "model = Sequential()\n",
    "model.add(Conv1D(128, 3, padding='same', activation='relu', strides=1))\n",
    "model.add(MaxPooling1D(pool_size=2))\n",
    "model.add(Conv1D(128, 3, padding='same', activation='relu', strides=1))\n",
    "model.add(MaxPooling1D(pool_size=2))\n",
    "model.add(Bidirectional(GRU(32, return_sequences = True)))\n",
    "model.add(Bidirectional(GRU(64, return_sequences = False)))\n",
    "model.add(Dense(61, activation='softmax'))\n",
    "\n",
    "# 3. 모델 학습과정 설정하기\n",
    "model.compile(loss='categorical_crossentropy', optimizer='adam', metrics=['accuracy'])\n",
    "\n",
    "from keras.callbacks import EarlyStopping\n",
    "es = EarlyStopping(monitor='val_loss', mode='min', verbose=1, patience=10)\n",
    "\n",
    "# 4. 모델 학습시키기\n",
    "hist = model.fit(x, y, epochs=100, batch_size=32, callbacks = [es],  validation_data = (x_val, y_val))"
   ]
  },
  {
   "cell_type": "code",
   "execution_count": 22,
   "metadata": {},
   "outputs": [],
   "source": [
    "def result_analysis(model_pred,label,threshold,path):\n",
    "    '''\n",
    "    model_pred  : 모델의 예측 \n",
    "    label       : 실제 라벨\n",
    "    threshold   : weak class로 구분할 기준 accuracy 값 (0~1)\n",
    "    path        : 그래프 저장경로\n",
    "    '''\n",
    "    \n",
    "\n",
    "    # label dictionary 생성\n",
    "    train_x_scaled = pd.read_csv('./data/train_features.csv') #train feature load\n",
    "    train_y = pd.read_csv('./data/train_labels.csv') #label load\n",
    "    label_dict = dict()\n",
    "    for label, label_desc in zip(train_y.label, train_y.label_desc):\n",
    "        label_dict[label] = label_desc\n",
    "    label_dict[45] ='Squat (kettlebell , goblet)'\n",
    "    \n",
    "    class_accuracy = dict()\n",
    "    if not (path in os.listdir()):\n",
    "        os.mkdir(path)\n",
    "        \n",
    "    for l in range(61):\n",
    "        desc = label_dict[l]\n",
    "        idx = label.argmax(axis = 1) == l\n",
    "        class_pred = model_pred[idx]\n",
    "\n",
    "        #클래스별 분류 확률 계산\n",
    "        class_pred = np.unique(class_pred,return_counts = True)\n",
    "        print((class_pred[1][np.where(class_pred[0]==l)] / class_pred[1].sum()))\n",
    "        class_accuracy[desc] = (class_pred[1][np.where(class_pred[0]==l)] / class_pred[1].sum())[0]\n",
    "\n",
    "        if class_accuracy[desc] < threshold: # weak class threshold\n",
    "            #클래스별 분류 결과 그림\n",
    "            plt.figure(figsize = (15,10))\n",
    "            plt.title(desc,fontsize = 20)\n",
    "            plt.bar([label_dict[l] for l in class_pred[0]],class_pred[1])\n",
    "            plt.xticks(fontsize = 15,rotation = 90)\n",
    "            plt.savefig(os.path.join('./' + path,desc), bbox_inches='tight')\n",
    "            plt.clf()\n",
    "            plt.close('all')\n",
    "    plt.figure(figsize = (15,10))\n",
    "    plt.title('Accuracy by class')\n",
    "    \n",
    "    weak_labels = []\n",
    "    weak_accuracy = []\n",
    "    for key in class_accuracy.keys():\n",
    "        if class_accuracy[key] <0.8:\n",
    "            weak_labels.append(key)\n",
    "            weak_accuracy.append(class_accuracy[key])\n",
    "    plt.bar(weak_labels,weak_accuracy)\n",
    "    plt.xticks(rotation = 90)\n",
    "    plt.savefig(os.path.join('./' + path,'Weakaccuracy'), bbox_inches='tight')\n",
    "    plt.clf()\n",
    "    plt.close('all')"
   ]
  },
  {
   "cell_type": "code",
   "execution_count": 24,
   "metadata": {},
   "outputs": [
    {
     "ename": "IndexError",
     "evalue": "list index out of range",
     "output_type": "error",
     "traceback": [
      "\u001b[1;31m---------------------------------------------------------------------------\u001b[0m",
      "\u001b[1;31mIndexError\u001b[0m                                Traceback (most recent call last)",
      "\u001b[1;32m<ipython-input-24-268e50e174d5>\u001b[0m in \u001b[0;36m<module>\u001b[1;34m\u001b[0m\n\u001b[1;32m----> 1\u001b[1;33m \u001b[0mmode_pred\u001b[0m \u001b[1;33m=\u001b[0m \u001b[0mmodel\u001b[0m\u001b[1;33m.\u001b[0m\u001b[0mpredict\u001b[0m\u001b[1;33m(\u001b[0m\u001b[1;34m\"test_features\"\u001b[0m\u001b[1;33m)\u001b[0m\u001b[1;33m\u001b[0m\u001b[1;33m\u001b[0m\u001b[0m\n\u001b[0m\u001b[0;32m      2\u001b[0m \u001b[0mlabel\u001b[0m \u001b[1;33m=\u001b[0m \u001b[1;34m\"loaded label\"\u001b[0m\u001b[1;33m\u001b[0m\u001b[1;33m\u001b[0m\u001b[0m\n\u001b[0;32m      3\u001b[0m \u001b[0mfolder_dir\u001b[0m \u001b[1;33m=\u001b[0m \u001b[1;34m\"folder_directory\"\u001b[0m \u001b[1;31m#미리 만들지 않아도 자동으로 폴더가 생성됩니다.\u001b[0m\u001b[1;33m\u001b[0m\u001b[1;33m\u001b[0m\u001b[0m\n\u001b[0;32m      4\u001b[0m \u001b[0mresult_analysis\u001b[0m\u001b[1;33m(\u001b[0m\u001b[0mmodel_pred\u001b[0m\u001b[1;33m,\u001b[0m \u001b[0mlabel\u001b[0m\u001b[1;33m,\u001b[0m\u001b[0mfolder_dir\u001b[0m\u001b[1;33m)\u001b[0m\u001b[1;33m\u001b[0m\u001b[1;33m\u001b[0m\u001b[0m\n",
      "\u001b[1;32m~\\anaconda3\\lib\\site-packages\\tensorflow\\python\\keras\\engine\\training.py\u001b[0m in \u001b[0;36mpredict\u001b[1;34m(self, x, batch_size, verbose, steps, callbacks, max_queue_size, workers, use_multiprocessing)\u001b[0m\n\u001b[0;32m   1596\u001b[0m                         '. Consider setting it to AutoShardPolicy.DATA.')\n\u001b[0;32m   1597\u001b[0m \u001b[1;33m\u001b[0m\u001b[0m\n\u001b[1;32m-> 1598\u001b[1;33m       data_handler = data_adapter.DataHandler(\n\u001b[0m\u001b[0;32m   1599\u001b[0m           \u001b[0mx\u001b[0m\u001b[1;33m=\u001b[0m\u001b[0mx\u001b[0m\u001b[1;33m,\u001b[0m\u001b[1;33m\u001b[0m\u001b[1;33m\u001b[0m\u001b[0m\n\u001b[0;32m   1600\u001b[0m           \u001b[0mbatch_size\u001b[0m\u001b[1;33m=\u001b[0m\u001b[0mbatch_size\u001b[0m\u001b[1;33m,\u001b[0m\u001b[1;33m\u001b[0m\u001b[1;33m\u001b[0m\u001b[0m\n",
      "\u001b[1;32m~\\anaconda3\\lib\\site-packages\\tensorflow\\python\\keras\\engine\\data_adapter.py\u001b[0m in \u001b[0;36m__init__\u001b[1;34m(self, x, y, sample_weight, batch_size, steps_per_epoch, initial_epoch, epochs, shuffle, class_weight, max_queue_size, workers, use_multiprocessing, model, steps_per_execution)\u001b[0m\n\u001b[0;32m   1098\u001b[0m \u001b[1;33m\u001b[0m\u001b[0m\n\u001b[0;32m   1099\u001b[0m     \u001b[0madapter_cls\u001b[0m \u001b[1;33m=\u001b[0m \u001b[0mselect_data_adapter\u001b[0m\u001b[1;33m(\u001b[0m\u001b[0mx\u001b[0m\u001b[1;33m,\u001b[0m \u001b[0my\u001b[0m\u001b[1;33m)\u001b[0m\u001b[1;33m\u001b[0m\u001b[1;33m\u001b[0m\u001b[0m\n\u001b[1;32m-> 1100\u001b[1;33m     self._adapter = adapter_cls(\n\u001b[0m\u001b[0;32m   1101\u001b[0m         \u001b[0mx\u001b[0m\u001b[1;33m,\u001b[0m\u001b[1;33m\u001b[0m\u001b[1;33m\u001b[0m\u001b[0m\n\u001b[0;32m   1102\u001b[0m         \u001b[0my\u001b[0m\u001b[1;33m,\u001b[0m\u001b[1;33m\u001b[0m\u001b[1;33m\u001b[0m\u001b[0m\n",
      "\u001b[1;32m~\\anaconda3\\lib\\site-packages\\tensorflow\\python\\keras\\engine\\data_adapter.py\u001b[0m in \u001b[0;36m__init__\u001b[1;34m(self, x, y, sample_weights, sample_weight_modes, batch_size, shuffle, **kwargs)\u001b[0m\n\u001b[0;32m    641\u001b[0m         sample_weights, sample_weight_modes)\n\u001b[0;32m    642\u001b[0m \u001b[1;33m\u001b[0m\u001b[0m\n\u001b[1;32m--> 643\u001b[1;33m     self._internal_adapter = TensorLikeDataAdapter(\n\u001b[0m\u001b[0;32m    644\u001b[0m         \u001b[0mx\u001b[0m\u001b[1;33m,\u001b[0m\u001b[1;33m\u001b[0m\u001b[1;33m\u001b[0m\u001b[0m\n\u001b[0;32m    645\u001b[0m         \u001b[0my\u001b[0m\u001b[1;33m=\u001b[0m\u001b[0my\u001b[0m\u001b[1;33m,\u001b[0m\u001b[1;33m\u001b[0m\u001b[1;33m\u001b[0m\u001b[0m\n",
      "\u001b[1;32m~\\anaconda3\\lib\\site-packages\\tensorflow\\python\\keras\\engine\\data_adapter.py\u001b[0m in \u001b[0;36m__init__\u001b[1;34m(self, x, y, sample_weights, sample_weight_modes, batch_size, epochs, steps, shuffle, **kwargs)\u001b[0m\n\u001b[0;32m    271\u001b[0m     \u001b[0minputs\u001b[0m \u001b[1;33m=\u001b[0m \u001b[0mpack_x_y_sample_weight\u001b[0m\u001b[1;33m(\u001b[0m\u001b[0mx\u001b[0m\u001b[1;33m,\u001b[0m \u001b[0my\u001b[0m\u001b[1;33m,\u001b[0m \u001b[0msample_weights\u001b[0m\u001b[1;33m)\u001b[0m\u001b[1;33m\u001b[0m\u001b[1;33m\u001b[0m\u001b[0m\n\u001b[0;32m    272\u001b[0m \u001b[1;33m\u001b[0m\u001b[0m\n\u001b[1;32m--> 273\u001b[1;33m     \u001b[0mnum_samples\u001b[0m \u001b[1;33m=\u001b[0m \u001b[0mset\u001b[0m\u001b[1;33m(\u001b[0m\u001b[0mint\u001b[0m\u001b[1;33m(\u001b[0m\u001b[0mi\u001b[0m\u001b[1;33m.\u001b[0m\u001b[0mshape\u001b[0m\u001b[1;33m[\u001b[0m\u001b[1;36m0\u001b[0m\u001b[1;33m]\u001b[0m\u001b[1;33m)\u001b[0m \u001b[1;32mfor\u001b[0m \u001b[0mi\u001b[0m \u001b[1;32min\u001b[0m \u001b[0mnest\u001b[0m\u001b[1;33m.\u001b[0m\u001b[0mflatten\u001b[0m\u001b[1;33m(\u001b[0m\u001b[0minputs\u001b[0m\u001b[1;33m)\u001b[0m\u001b[1;33m)\u001b[0m\u001b[1;33m.\u001b[0m\u001b[0mpop\u001b[0m\u001b[1;33m(\u001b[0m\u001b[1;33m)\u001b[0m\u001b[1;33m\u001b[0m\u001b[1;33m\u001b[0m\u001b[0m\n\u001b[0m\u001b[0;32m    274\u001b[0m     \u001b[0m_check_data_cardinality\u001b[0m\u001b[1;33m(\u001b[0m\u001b[0minputs\u001b[0m\u001b[1;33m)\u001b[0m\u001b[1;33m\u001b[0m\u001b[1;33m\u001b[0m\u001b[0m\n\u001b[0;32m    275\u001b[0m \u001b[1;33m\u001b[0m\u001b[0m\n",
      "\u001b[1;32m~\\anaconda3\\lib\\site-packages\\tensorflow\\python\\keras\\engine\\data_adapter.py\u001b[0m in \u001b[0;36m<genexpr>\u001b[1;34m(.0)\u001b[0m\n\u001b[0;32m    271\u001b[0m     \u001b[0minputs\u001b[0m \u001b[1;33m=\u001b[0m \u001b[0mpack_x_y_sample_weight\u001b[0m\u001b[1;33m(\u001b[0m\u001b[0mx\u001b[0m\u001b[1;33m,\u001b[0m \u001b[0my\u001b[0m\u001b[1;33m,\u001b[0m \u001b[0msample_weights\u001b[0m\u001b[1;33m)\u001b[0m\u001b[1;33m\u001b[0m\u001b[1;33m\u001b[0m\u001b[0m\n\u001b[0;32m    272\u001b[0m \u001b[1;33m\u001b[0m\u001b[0m\n\u001b[1;32m--> 273\u001b[1;33m     \u001b[0mnum_samples\u001b[0m \u001b[1;33m=\u001b[0m \u001b[0mset\u001b[0m\u001b[1;33m(\u001b[0m\u001b[0mint\u001b[0m\u001b[1;33m(\u001b[0m\u001b[0mi\u001b[0m\u001b[1;33m.\u001b[0m\u001b[0mshape\u001b[0m\u001b[1;33m[\u001b[0m\u001b[1;36m0\u001b[0m\u001b[1;33m]\u001b[0m\u001b[1;33m)\u001b[0m \u001b[1;32mfor\u001b[0m \u001b[0mi\u001b[0m \u001b[1;32min\u001b[0m \u001b[0mnest\u001b[0m\u001b[1;33m.\u001b[0m\u001b[0mflatten\u001b[0m\u001b[1;33m(\u001b[0m\u001b[0minputs\u001b[0m\u001b[1;33m)\u001b[0m\u001b[1;33m)\u001b[0m\u001b[1;33m.\u001b[0m\u001b[0mpop\u001b[0m\u001b[1;33m(\u001b[0m\u001b[1;33m)\u001b[0m\u001b[1;33m\u001b[0m\u001b[1;33m\u001b[0m\u001b[0m\n\u001b[0m\u001b[0;32m    274\u001b[0m     \u001b[0m_check_data_cardinality\u001b[0m\u001b[1;33m(\u001b[0m\u001b[0minputs\u001b[0m\u001b[1;33m)\u001b[0m\u001b[1;33m\u001b[0m\u001b[1;33m\u001b[0m\u001b[0m\n\u001b[0;32m    275\u001b[0m \u001b[1;33m\u001b[0m\u001b[0m\n",
      "\u001b[1;32m~\\anaconda3\\lib\\site-packages\\tensorflow\\python\\framework\\tensor_shape.py\u001b[0m in \u001b[0;36m__getitem__\u001b[1;34m(self, key)\u001b[0m\n\u001b[0;32m    887\u001b[0m       \u001b[1;32melse\u001b[0m\u001b[1;33m:\u001b[0m\u001b[1;33m\u001b[0m\u001b[1;33m\u001b[0m\u001b[0m\n\u001b[0;32m    888\u001b[0m         \u001b[1;32mif\u001b[0m \u001b[0mself\u001b[0m\u001b[1;33m.\u001b[0m\u001b[0m_v2_behavior\u001b[0m\u001b[1;33m:\u001b[0m\u001b[1;33m\u001b[0m\u001b[1;33m\u001b[0m\u001b[0m\n\u001b[1;32m--> 889\u001b[1;33m           \u001b[1;32mreturn\u001b[0m \u001b[0mself\u001b[0m\u001b[1;33m.\u001b[0m\u001b[0m_dims\u001b[0m\u001b[1;33m[\u001b[0m\u001b[0mkey\u001b[0m\u001b[1;33m]\u001b[0m\u001b[1;33m.\u001b[0m\u001b[0mvalue\u001b[0m\u001b[1;33m\u001b[0m\u001b[1;33m\u001b[0m\u001b[0m\n\u001b[0m\u001b[0;32m    890\u001b[0m         \u001b[1;32melse\u001b[0m\u001b[1;33m:\u001b[0m\u001b[1;33m\u001b[0m\u001b[1;33m\u001b[0m\u001b[0m\n\u001b[0;32m    891\u001b[0m           \u001b[1;32mreturn\u001b[0m \u001b[0mself\u001b[0m\u001b[1;33m.\u001b[0m\u001b[0m_dims\u001b[0m\u001b[1;33m[\u001b[0m\u001b[0mkey\u001b[0m\u001b[1;33m]\u001b[0m\u001b[1;33m\u001b[0m\u001b[1;33m\u001b[0m\u001b[0m\n",
      "\u001b[1;31mIndexError\u001b[0m: list index out of range"
     ]
    }
   ],
   "source": [
    "mode_pred = model.predict(\"test_features\")\n",
    "label = \"loaded label\"\n",
    "folder_dir = \"folder_directory\" #미리 만들지 않아도 자동으로 폴더가 생성됩니다.\n",
    "result_analysis(model_pred, label,folder_dir)"
   ]
  },
  {
   "cell_type": "code",
   "execution_count": 16,
   "metadata": {},
   "outputs": [
    {
     "name": "stdout",
     "output_type": "stream",
     "text": [
      "Epoch 1/100\n",
      "157/157 [==============================] - 49s 254ms/step - loss: 2.7415 - accuracy: 0.4824 - val_loss: 2.1652 - val_accuracy: 0.5312\n",
      "Epoch 2/100\n",
      "157/157 [==============================] - 46s 293ms/step - loss: 2.0726 - accuracy: 0.5282 - val_loss: 1.9563 - val_accuracy: 0.5568\n",
      "Epoch 3/100\n",
      "157/157 [==============================] - 51s 323ms/step - loss: 1.9428 - accuracy: 0.5409 - val_loss: 1.9778 - val_accuracy: 0.5344\n",
      "Epoch 4/100\n",
      "157/157 [==============================] - 47s 298ms/step - loss: 1.6737 - accuracy: 0.5668 - val_loss: 1.7271 - val_accuracy: 0.5696\n",
      "Epoch 5/100\n",
      "157/157 [==============================] - 47s 299ms/step - loss: 1.5862 - accuracy: 0.5840 - val_loss: 1.5978 - val_accuracy: 0.6064\n",
      "Epoch 6/100\n",
      "157/157 [==============================] - 49s 314ms/step - loss: 1.5194 - accuracy: 0.5894 - val_loss: 1.4984 - val_accuracy: 0.6304\n",
      "Epoch 7/100\n",
      "157/157 [==============================] - 49s 313ms/step - loss: 1.3245 - accuracy: 0.6400 - val_loss: 1.4945 - val_accuracy: 0.6144\n",
      "Epoch 8/100\n",
      "157/157 [==============================] - 49s 310ms/step - loss: 1.3521 - accuracy: 0.6237 - val_loss: 1.3731 - val_accuracy: 0.6576\n",
      "Epoch 9/100\n",
      "157/157 [==============================] - 49s 314ms/step - loss: 1.2390 - accuracy: 0.6459 - val_loss: 1.3710 - val_accuracy: 0.6560\n",
      "Epoch 10/100\n",
      "157/157 [==============================] - 49s 310ms/step - loss: 1.1353 - accuracy: 0.6749 - val_loss: 1.2716 - val_accuracy: 0.6624\n",
      "Epoch 11/100\n",
      "157/157 [==============================] - 51s 325ms/step - loss: 1.0319 - accuracy: 0.7037 - val_loss: 1.1907 - val_accuracy: 0.6624\n",
      "Epoch 12/100\n",
      "157/157 [==============================] - 50s 318ms/step - loss: 0.9571 - accuracy: 0.7110 - val_loss: 1.3627 - val_accuracy: 0.6304\n",
      "Epoch 13/100\n",
      "157/157 [==============================] - 50s 318ms/step - loss: 1.0357 - accuracy: 0.6955 - val_loss: 1.1480 - val_accuracy: 0.6864\n",
      "Epoch 14/100\n",
      "157/157 [==============================] - 50s 317ms/step - loss: 0.8614 - accuracy: 0.7302 - val_loss: 1.1815 - val_accuracy: 0.6768\n",
      "Epoch 15/100\n",
      "157/157 [==============================] - 50s 317ms/step - loss: 0.8501 - accuracy: 0.7426 - val_loss: 1.1757 - val_accuracy: 0.6736\n",
      "Epoch 16/100\n",
      "157/157 [==============================] - 51s 325ms/step - loss: 0.7209 - accuracy: 0.7835 - val_loss: 1.1485 - val_accuracy: 0.6736\n",
      "Epoch 17/100\n",
      "157/157 [==============================] - 50s 321ms/step - loss: 0.7798 - accuracy: 0.7519 - val_loss: 1.1628 - val_accuracy: 0.6912\n",
      "Epoch 18/100\n",
      "157/157 [==============================] - 53s 340ms/step - loss: 0.6657 - accuracy: 0.7940 - val_loss: 1.1296 - val_accuracy: 0.6864\n",
      "Epoch 19/100\n",
      "157/157 [==============================] - 51s 327ms/step - loss: 0.6499 - accuracy: 0.7967 - val_loss: 1.1437 - val_accuracy: 0.7040\n",
      "Epoch 20/100\n",
      "157/157 [==============================] - 51s 323ms/step - loss: 0.6471 - accuracy: 0.7874 - val_loss: 1.2083 - val_accuracy: 0.6848\n",
      "Epoch 21/100\n",
      "157/157 [==============================] - 51s 325ms/step - loss: 0.6009 - accuracy: 0.8014 - val_loss: 1.0759 - val_accuracy: 0.7232\n",
      "Epoch 22/100\n",
      "157/157 [==============================] - 51s 325ms/step - loss: 0.5597 - accuracy: 0.8199 - val_loss: 1.1399 - val_accuracy: 0.7072\n",
      "Epoch 23/100\n",
      "157/157 [==============================] - 51s 324ms/step - loss: 0.5546 - accuracy: 0.8203 - val_loss: 1.1436 - val_accuracy: 0.7088\n",
      "Epoch 24/100\n",
      "157/157 [==============================] - 49s 315ms/step - loss: 0.4625 - accuracy: 0.8494 - val_loss: 1.0739 - val_accuracy: 0.7312\n",
      "Epoch 25/100\n",
      "157/157 [==============================] - 50s 320ms/step - loss: 0.5030 - accuracy: 0.8434 - val_loss: 1.1021 - val_accuracy: 0.7056\n",
      "Epoch 26/100\n",
      "157/157 [==============================] - 51s 323ms/step - loss: 0.4230 - accuracy: 0.8648 - val_loss: 1.0993 - val_accuracy: 0.7120\n",
      "Epoch 27/100\n",
      "157/157 [==============================] - 51s 324ms/step - loss: 0.3588 - accuracy: 0.8857 - val_loss: 1.1299 - val_accuracy: 0.7040\n",
      "Epoch 28/100\n",
      "157/157 [==============================] - 50s 318ms/step - loss: 0.4365 - accuracy: 0.8537 - val_loss: 1.2308 - val_accuracy: 0.6912\n",
      "Epoch 29/100\n",
      "157/157 [==============================] - 50s 320ms/step - loss: 0.4520 - accuracy: 0.8521 - val_loss: 1.0994 - val_accuracy: 0.7136\n",
      "Epoch 30/100\n",
      "157/157 [==============================] - 52s 330ms/step - loss: 0.3848 - accuracy: 0.8784 - val_loss: 1.1181 - val_accuracy: 0.7136\n",
      "Epoch 31/100\n",
      "157/157 [==============================] - 53s 341ms/step - loss: 0.2799 - accuracy: 0.9131 - val_loss: 1.1670 - val_accuracy: 0.7200\n",
      "Epoch 32/100\n",
      "157/157 [==============================] - 52s 333ms/step - loss: 0.2549 - accuracy: 0.9178 - val_loss: 1.1559 - val_accuracy: 0.7056\n",
      "Epoch 33/100\n",
      "157/157 [==============================] - 49s 311ms/step - loss: 0.3075 - accuracy: 0.9008 - val_loss: 1.2255 - val_accuracy: 0.7072\n",
      "Epoch 34/100\n",
      "157/157 [==============================] - 6387s 41s/step - loss: 0.2880 - accuracy: 0.9037 - val_loss: 1.1923 - val_accuracy: 0.7104\n",
      "Epoch 00034: early stopping\n"
     ]
    }
   ],
   "source": [
    "# 0. 사용할 패키지 불러오기\n",
    "from keras.datasets import reuters\n",
    "from keras.utils import np_utils\n",
    "from keras.preprocessing import sequence\n",
    "from keras.models import Sequential\n",
    "from keras.layers import Dense, Embedding, LSTM, Conv1D, GlobalMaxPooling1D, Conv2D, MaxPooling1D, Bidirectional, GRU\n",
    "from keras.layers import Flatten\n",
    "\n",
    "# 2. 모델 구성하기\n",
    "model = Sequential()\n",
    "model.add(Conv1D(128, 3, padding='same', activation='relu', strides=1))\n",
    "model.add(MaxPooling1D(pool_size=2))\n",
    "model.add(Conv1D(128, 3, padding='same', activation='relu', strides=1))\n",
    "model.add(MaxPooling1D(pool_size=2))\n",
    "model.add(Bidirectional(LSTM(32, return_sequences = True)))\n",
    "model.add(Bidirectional(LSTM(64, return_sequences = True)))\n",
    "model.add(Bidirectional(LSTM(128, return_sequences = False)))\n",
    "model.add(Dense(61, activation='softmax'))\n",
    "\n",
    "# 3. 모델 학습과정 설정하기\n",
    "model.compile(loss='categorical_crossentropy', optimizer='adam', metrics=['accuracy'])\n",
    "\n",
    "from keras.callbacks import EarlyStopping\n",
    "es = EarlyStopping(monitor='val_loss', mode='min', verbose=1, patience=10)\n",
    "\n",
    "# 4. 모델 학습시키기\n",
    "hist = model.fit(x, y, epochs=100, batch_size=32, callbacks = [es],  validation_data = (x_val, y_val))"
   ]
  },
  {
   "cell_type": "code",
   "execution_count": null,
   "metadata": {},
   "outputs": [],
   "source": []
  }
 ],
 "metadata": {
  "kernelspec": {
   "display_name": "keras",
   "language": "python",
   "name": "keras"
  },
  "language_info": {
   "codemirror_mode": {
    "name": "ipython",
    "version": 3
   },
   "file_extension": ".py",
   "mimetype": "text/x-python",
   "name": "python",
   "nbconvert_exporter": "python",
   "pygments_lexer": "ipython3",
   "version": "3.8.5"
  }
 },
 "nbformat": 4,
 "nbformat_minor": 4
}
