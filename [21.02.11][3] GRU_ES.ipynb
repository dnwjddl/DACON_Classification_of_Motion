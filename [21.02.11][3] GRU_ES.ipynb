{
 "cells": [
  {
   "cell_type": "code",
   "execution_count": 1,
   "metadata": {},
   "outputs": [],
   "source": [
    "import os\n",
    "import pandas as pd\n",
    "import numpy as np\n",
    "\n",
    "import tensorflow as tf"
   ]
  },
  {
   "cell_type": "code",
   "execution_count": 2,
   "metadata": {},
   "outputs": [],
   "source": [
    "train = pd.read_csv('data/train_features.csv')\n",
    "train_labels = pd.read_csv('data/train_labels.csv')\n",
    "test = pd.read_csv('data/test_features.csv')\n",
    "submission = pd.read_csv('data/sample_submission.csv')"
   ]
  },
  {
   "cell_type": "code",
   "execution_count": 3,
   "metadata": {},
   "outputs": [
    {
     "data": {
      "text/plain": [
       "TensorShape([3125, 600, 6])"
      ]
     },
     "execution_count": 3,
     "metadata": {},
     "output_type": "execute_result"
    }
   ],
   "source": [
    "# id랑 time label을 없앰\n",
    "X=tf.reshape(np.array(train.iloc[:,2:]),[-1, 600, 6])\n",
    "X.shape"
   ]
  },
  {
   "cell_type": "code",
   "execution_count": 4,
   "metadata": {},
   "outputs": [
    {
     "data": {
      "text/plain": [
       "(3125, 61)"
      ]
     },
     "execution_count": 4,
     "metadata": {},
     "output_type": "execute_result"
    }
   ],
   "source": [
    "# label을 one-hot encoding (61개의 unique 한 label 존재)\n",
    "y = tf.keras.utils.to_categorical(train_labels['label']) \n",
    "y.shape"
   ]
  },
  {
   "cell_type": "code",
   "execution_count": 5,
   "metadata": {},
   "outputs": [],
   "source": [
    "from keras.models import Sequential\n",
    "from keras.layers import Dense, SimpleRNN, Activation, GRU\n",
    "from keras import optimizers\n",
    "\n",
    "def deep_gru():\n",
    "    model = Sequential()\n",
    "    model.add(GRU(32, input_shape = (600,6), return_sequences = True))\n",
    "    model.add(GRU(64, return_sequences = True))\n",
    "    model.add(GRU(64, return_sequences = True))   \n",
    "    model.add(GRU(128, return_sequences = False))\n",
    "    model.add(Dense(128, activation='relu'))\n",
    "    model.add(Dense(61, activation='softmax'))\n",
    "    \n",
    "    #adam = optimizers.adam(lr = 0.001)\n",
    "    model.compile(loss = 'categorical_crossentropy', optimizer = 'rmsprop', metrics = ['accuracy'])\n",
    "    return model"
   ]
  },
  {
   "cell_type": "code",
   "execution_count": 7,
   "metadata": {},
   "outputs": [],
   "source": [
    "from keras.callbacks import EarlyStopping\n",
    "es = EarlyStopping(monitor='val_loss', mode='min', verbose=1, patience=10)"
   ]
  },
  {
   "cell_type": "code",
   "execution_count": 8,
   "metadata": {},
   "outputs": [
    {
     "name": "stdout",
     "output_type": "stream",
     "text": [
      "Epoch 1/100\n",
      "79/79 - 189s - loss: 2.9143 - accuracy: 0.4716 - val_loss: 2.7179 - val_accuracy: 0.4976\n",
      "Epoch 2/100\n",
      "79/79 - 161s - loss: 2.6603 - accuracy: 0.4840 - val_loss: 2.6095 - val_accuracy: 0.5040\n",
      "Epoch 3/100\n",
      "79/79 - 163s - loss: 2.4821 - accuracy: 0.4928 - val_loss: 2.5749 - val_accuracy: 0.5024\n",
      "Epoch 4/100\n",
      "79/79 - 160s - loss: 2.2911 - accuracy: 0.5040 - val_loss: 2.4295 - val_accuracy: 0.5136\n",
      "Epoch 5/100\n",
      "79/79 - 157s - loss: 2.0991 - accuracy: 0.5300 - val_loss: 2.2177 - val_accuracy: 0.5232\n",
      "Epoch 6/100\n",
      "79/79 - 163s - loss: 1.9352 - accuracy: 0.5436 - val_loss: 2.1490 - val_accuracy: 0.5232\n",
      "Epoch 7/100\n",
      "79/79 - 143s - loss: 1.7796 - accuracy: 0.5600 - val_loss: 2.0914 - val_accuracy: 0.5424\n",
      "Epoch 8/100\n",
      "79/79 - 145s - loss: 1.6177 - accuracy: 0.5808 - val_loss: 1.9721 - val_accuracy: 0.5424\n",
      "Epoch 9/100\n",
      "79/79 - 146s - loss: 1.4753 - accuracy: 0.5964 - val_loss: 1.8535 - val_accuracy: 0.5616\n",
      "Epoch 10/100\n",
      "79/79 - 149s - loss: 1.3444 - accuracy: 0.6232 - val_loss: 1.9548 - val_accuracy: 0.5392\n",
      "Epoch 11/100\n",
      "79/79 - 152s - loss: 1.2423 - accuracy: 0.6472 - val_loss: 1.8145 - val_accuracy: 0.5920\n",
      "Epoch 12/100\n",
      "79/79 - 141s - loss: 1.1487 - accuracy: 0.6708 - val_loss: 1.8381 - val_accuracy: 0.5840\n",
      "Epoch 13/100\n",
      "79/79 - 133s - loss: 1.0509 - accuracy: 0.6948 - val_loss: 1.7757 - val_accuracy: 0.5872\n",
      "Epoch 14/100\n",
      "79/79 - 134s - loss: 0.9740 - accuracy: 0.7168 - val_loss: 2.1287 - val_accuracy: 0.5024\n",
      "Epoch 15/100\n",
      "79/79 - 132s - loss: 0.8928 - accuracy: 0.7324 - val_loss: 1.9589 - val_accuracy: 0.6016\n",
      "Epoch 16/100\n",
      "79/79 - 131s - loss: 0.8327 - accuracy: 0.7512 - val_loss: 1.9977 - val_accuracy: 0.5824\n",
      "Epoch 17/100\n",
      "79/79 - 133s - loss: 0.7609 - accuracy: 0.7668 - val_loss: 2.2554 - val_accuracy: 0.5792\n",
      "Epoch 18/100\n",
      "79/79 - 133s - loss: 0.6937 - accuracy: 0.7884 - val_loss: 1.9898 - val_accuracy: 0.6064\n",
      "Epoch 19/100\n",
      "79/79 - 133s - loss: 0.6342 - accuracy: 0.8064 - val_loss: 1.9691 - val_accuracy: 0.6176\n",
      "Epoch 20/100\n",
      "79/79 - 134s - loss: 0.5830 - accuracy: 0.8224 - val_loss: 2.0469 - val_accuracy: 0.6080\n",
      "Epoch 21/100\n",
      "79/79 - 135s - loss: 0.5191 - accuracy: 0.8412 - val_loss: 2.2026 - val_accuracy: 0.5808\n",
      "Epoch 22/100\n",
      "79/79 - 144s - loss: 0.4792 - accuracy: 0.8548 - val_loss: 2.2226 - val_accuracy: 0.5344\n",
      "Epoch 23/100\n",
      "79/79 - 113s - loss: 0.4238 - accuracy: 0.8664 - val_loss: 2.1505 - val_accuracy: 0.6128\n",
      "Epoch 00023: early stopping\n"
     ]
    },
    {
     "data": {
      "text/plain": [
       "<tensorflow.python.keras.callbacks.History at 0x1e75c544610>"
      ]
     },
     "execution_count": 8,
     "metadata": {},
     "output_type": "execute_result"
    }
   ],
   "source": [
    "model1 = deep_gru()\n",
    "model1.fit(X,y, epochs=100, batch_size=32, verbose = 2, validation_split=0.2, callbacks = [es])"
   ]
  },
  {
   "cell_type": "code",
   "execution_count": 9,
   "metadata": {},
   "outputs": [],
   "source": [
    "# # model저장\n",
    "# from keras.callbacks import ModelCheckpoint\n",
    "# mc = ModelCheckpoint('best_model.h5', monitor='val_loss', mode='min', save_best_only=True)"
   ]
  },
  {
   "cell_type": "code",
   "execution_count": 10,
   "metadata": {},
   "outputs": [
    {
     "data": {
      "text/plain": [
       "TensorShape([782, 600, 6])"
      ]
     },
     "execution_count": 10,
     "metadata": {},
     "output_type": "execute_result"
    }
   ],
   "source": [
    "test_X=tf.reshape(np.array(test.iloc[:,2:]),[-1, 600, 6])\n",
    "test_X.shape"
   ]
  },
  {
   "cell_type": "code",
   "execution_count": 12,
   "metadata": {},
   "outputs": [],
   "source": [
    "prediction=model1.predict(test_X)"
   ]
  },
  {
   "cell_type": "code",
   "execution_count": 13,
   "metadata": {},
   "outputs": [],
   "source": [
    "submission.iloc[:,1:]=prediction"
   ]
  },
  {
   "cell_type": "code",
   "execution_count": 14,
   "metadata": {},
   "outputs": [],
   "source": [
    "submission.to_csv('deepGRU_es_submission.csv', index=False)"
   ]
  },
  {
   "cell_type": "code",
   "execution_count": null,
   "metadata": {},
   "outputs": [],
   "source": []
  }
 ],
 "metadata": {
  "kernelspec": {
   "display_name": "keras",
   "language": "python",
   "name": "keras"
  },
  "language_info": {
   "codemirror_mode": {
    "name": "ipython",
    "version": 3
   },
   "file_extension": ".py",
   "mimetype": "text/x-python",
   "name": "python",
   "nbconvert_exporter": "python",
   "pygments_lexer": "ipython3",
   "version": "3.8.5"
  }
 },
 "nbformat": 4,
 "nbformat_minor": 4
}
