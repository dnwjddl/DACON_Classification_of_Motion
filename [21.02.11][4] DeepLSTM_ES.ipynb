{
 "cells": [
  {
   "cell_type": "code",
   "execution_count": 11,
   "metadata": {},
   "outputs": [],
   "source": [
    "import os\n",
    "import pandas as pd\n",
    "import numpy as np\n",
    "\n",
    "import tensorflow as tf"
   ]
  },
  {
   "cell_type": "code",
   "execution_count": 12,
   "metadata": {},
   "outputs": [],
   "source": [
    "train = pd.read_csv('data/train_features.csv')\n",
    "train_labels = pd.read_csv('data/train_labels.csv')\n",
    "test = pd.read_csv('data/test_features.csv')\n",
    "submission = pd.read_csv('data/sample_submission.csv')"
   ]
  },
  {
   "cell_type": "code",
   "execution_count": 13,
   "metadata": {},
   "outputs": [
    {
     "data": {
      "text/plain": [
       "TensorShape([3125, 600, 6])"
      ]
     },
     "execution_count": 13,
     "metadata": {},
     "output_type": "execute_result"
    }
   ],
   "source": [
    "# id랑 time label을 없앰\n",
    "X=tf.reshape(np.array(train.iloc[:,2:]),[-1, 600, 6])\n",
    "X.shape"
   ]
  },
  {
   "cell_type": "code",
   "execution_count": 17,
   "metadata": {},
   "outputs": [
    {
     "data": {
      "text/plain": [
       "(3125, 61)"
      ]
     },
     "execution_count": 17,
     "metadata": {},
     "output_type": "execute_result"
    }
   ],
   "source": [
    "# label을 one-hot encoding (61개의 unique 한 label 존재)\n",
    "y = tf.keras.utils.to_categorical(train_labels['label']) \n",
    "y.shape"
   ]
  },
  {
   "cell_type": "code",
   "execution_count": 18,
   "metadata": {},
   "outputs": [],
   "source": [
    "from keras.models import Sequential\n",
    "from keras.layers import Dense, SimpleRNN, Activation, LSTM\n",
    "from keras import optimizers\n",
    "\n",
    "def deep_lstm():\n",
    "    model = Sequential()\n",
    "    model.add(LSTM(32, input_shape = (600,6), return_sequences = True))\n",
    "    model.add(LSTM(64, return_sequences = True))\n",
    "    model.add(LSTM(128, return_sequences = False))\n",
    "    model.add(Dense(128, activation='relu'))\n",
    "    model.add(Dense(61, activation='softmax'))\n",
    "    \n",
    "    #adam = optimizers.adam(lr = 0.001)\n",
    "    model.compile(loss = 'categorical_crossentropy', optimizer = 'rmsprop', metrics = ['accuracy'])\n",
    "    return model"
   ]
  },
  {
   "cell_type": "code",
   "execution_count": 19,
   "metadata": {},
   "outputs": [],
   "source": [
    "from keras.callbacks import EarlyStopping\n",
    "es = EarlyStopping(monitor='val_loss', mode='min', verbose=1, patience=10)"
   ]
  },
  {
   "cell_type": "code",
   "execution_count": 20,
   "metadata": {},
   "outputs": [
    {
     "name": "stdout",
     "output_type": "stream",
     "text": [
      "Epoch 1/100\n",
      "79/79 [==============================] - 64s 742ms/step - loss: 3.0300 - accuracy: 0.4547 - val_loss: 2.6266 - val_accuracy: 0.5008\n",
      "Epoch 2/100\n",
      "79/79 [==============================] - 67s 854ms/step - loss: 2.6288 - accuracy: 0.4876 - val_loss: 2.5632 - val_accuracy: 0.5152\n",
      "Epoch 3/100\n",
      "79/79 [==============================] - 73s 924ms/step - loss: 2.4301 - accuracy: 0.4902 - val_loss: 2.7875 - val_accuracy: 0.5088\n",
      "Epoch 4/100\n",
      "79/79 [==============================] - 76s 962ms/step - loss: 2.3191 - accuracy: 0.4933 - val_loss: 2.3214 - val_accuracy: 0.5152\n",
      "Epoch 5/100\n",
      "79/79 [==============================] - 5655s 72s/step - loss: 2.1591 - accuracy: 0.5151 - val_loss: 2.3642 - val_accuracy: 0.5264\n",
      "Epoch 6/100\n",
      "79/79 [==============================] - 89s 1s/step - loss: 2.1157 - accuracy: 0.5051 - val_loss: 2.2621 - val_accuracy: 0.5344\n",
      "Epoch 7/100\n",
      "79/79 [==============================] - 85s 1s/step - loss: 1.9899 - accuracy: 0.5312 - val_loss: 2.0371 - val_accuracy: 0.5360\n",
      "Epoch 8/100\n",
      "79/79 [==============================] - 86s 1s/step - loss: 1.8907 - accuracy: 0.5507 - val_loss: 2.0608 - val_accuracy: 0.5536\n",
      "Epoch 9/100\n",
      "79/79 [==============================] - 91s 1s/step - loss: 1.8744 - accuracy: 0.5452 - val_loss: 2.0531 - val_accuracy: 0.5552\n",
      "Epoch 10/100\n",
      "79/79 [==============================] - 93s 1s/step - loss: 1.7385 - accuracy: 0.5813 - val_loss: 1.9347 - val_accuracy: 0.5584\n",
      "Epoch 11/100\n",
      "79/79 [==============================] - 110s 1s/step - loss: 1.7341 - accuracy: 0.5768 - val_loss: 2.0672 - val_accuracy: 0.5600\n",
      "Epoch 12/100\n",
      "79/79 [==============================] - 109s 1s/step - loss: 1.6297 - accuracy: 0.5927 - val_loss: 2.0691 - val_accuracy: 0.5536\n",
      "Epoch 13/100\n",
      "79/79 [==============================] - 110s 1s/step - loss: 1.6043 - accuracy: 0.5918 - val_loss: 1.9074 - val_accuracy: 0.5744\n",
      "Epoch 14/100\n",
      "79/79 [==============================] - 104s 1s/step - loss: 1.6386 - accuracy: 0.5805 - val_loss: 1.8289 - val_accuracy: 0.5616\n",
      "Epoch 15/100\n",
      "79/79 [==============================] - 99s 1s/step - loss: 1.4871 - accuracy: 0.5976 - val_loss: 1.9636 - val_accuracy: 0.5680\n",
      "Epoch 16/100\n",
      "79/79 [==============================] - 112s 1s/step - loss: 1.4367 - accuracy: 0.6184 - val_loss: 1.8178 - val_accuracy: 0.5792\n",
      "Epoch 17/100\n",
      "79/79 [==============================] - 113s 1s/step - loss: 1.4069 - accuracy: 0.6366 - val_loss: 1.9464 - val_accuracy: 0.5712\n",
      "Epoch 18/100\n",
      "79/79 [==============================] - 100s 1s/step - loss: 1.3772 - accuracy: 0.6372 - val_loss: 1.8420 - val_accuracy: 0.5792\n",
      "Epoch 19/100\n",
      "79/79 [==============================] - 73s 916ms/step - loss: 1.3760 - accuracy: 0.6241 - val_loss: 1.8249 - val_accuracy: 0.5936\n",
      "Epoch 20/100\n",
      "79/79 [==============================] - 70s 888ms/step - loss: 1.2752 - accuracy: 0.6476 - val_loss: 1.7990 - val_accuracy: 0.6112\n",
      "Epoch 21/100\n",
      "79/79 [==============================] - 75s 948ms/step - loss: 1.1554 - accuracy: 0.6738 - val_loss: 1.9604 - val_accuracy: 0.5824\n",
      "Epoch 22/100\n",
      "79/79 [==============================] - 74s 941ms/step - loss: 1.1783 - accuracy: 0.6664 - val_loss: 1.8391 - val_accuracy: 0.5920\n",
      "Epoch 23/100\n",
      "79/79 [==============================] - 75s 951ms/step - loss: 1.1662 - accuracy: 0.6778 - val_loss: 1.7814 - val_accuracy: 0.5968\n",
      "Epoch 24/100\n",
      "79/79 [==============================] - 77s 974ms/step - loss: 1.1186 - accuracy: 0.6858 - val_loss: 1.7819 - val_accuracy: 0.6016\n",
      "Epoch 25/100\n",
      "79/79 [==============================] - 80s 1s/step - loss: 1.0303 - accuracy: 0.7044 - val_loss: 1.9089 - val_accuracy: 0.5872\n",
      "Epoch 26/100\n",
      "79/79 [==============================] - 71s 897ms/step - loss: 1.0436 - accuracy: 0.6939 - val_loss: 1.9407 - val_accuracy: 0.5872\n",
      "Epoch 27/100\n",
      "79/79 [==============================] - 74s 943ms/step - loss: 0.9669 - accuracy: 0.7051 - val_loss: 2.1039 - val_accuracy: 0.6032\n",
      "Epoch 28/100\n",
      "79/79 [==============================] - 84s 1s/step - loss: 0.9714 - accuracy: 0.7273 - val_loss: 2.1999 - val_accuracy: 0.5232\n",
      "Epoch 29/100\n",
      "79/79 [==============================] - 108s 1s/step - loss: 0.9729 - accuracy: 0.7222 - val_loss: 1.9677 - val_accuracy: 0.5936\n",
      "Epoch 30/100\n",
      "79/79 [==============================] - 140s 2s/step - loss: 0.8690 - accuracy: 0.7323 - val_loss: 2.0447 - val_accuracy: 0.5952\n",
      "Epoch 31/100\n",
      "79/79 [==============================] - 141s 2s/step - loss: 0.8664 - accuracy: 0.7544 - val_loss: 1.9245 - val_accuracy: 0.6144\n",
      "Epoch 32/100\n",
      "79/79 [==============================] - 140s 2s/step - loss: 0.7798 - accuracy: 0.7559 - val_loss: 1.9057 - val_accuracy: 0.5856\n",
      "Epoch 33/100\n",
      "79/79 [==============================] - 149s 2s/step - loss: 0.7663 - accuracy: 0.7674 - val_loss: 1.9700 - val_accuracy: 0.6064\n",
      "Epoch 00033: early stopping\n"
     ]
    },
    {
     "data": {
      "text/plain": [
       "<tensorflow.python.keras.callbacks.History at 0x23450fc3a60>"
      ]
     },
     "execution_count": 20,
     "metadata": {},
     "output_type": "execute_result"
    }
   ],
   "source": [
    "model1 = deep_lstm()\n",
    "model1.fit(X,y, epochs=100, batch_size=32, verbose = 1,  validation_split=0.2, callbacks = [es])"
   ]
  },
  {
   "cell_type": "code",
   "execution_count": 21,
   "metadata": {},
   "outputs": [],
   "source": [
    "test_X=tf.reshape(np.array(test.iloc[:,2:]),[-1, 600, 6])\n",
    "test_X.shape\n",
    "prediction=model1.predict(test_X)\n",
    "submission.iloc[:,1:]=prediction\n",
    "submission.to_csv('output/deepLSTM_es_submission.csv', index=False)"
   ]
  },
  {
   "cell_type": "code",
   "execution_count": 23,
   "metadata": {},
   "outputs": [],
   "source": [
    "from keras.models import Sequential\n",
    "from keras.layers import Dense, Activation, LSTM\n",
    "from keras import optimizers\n",
    "from keras.callbacks import EarlyStopping\n",
    "\n",
    "def deeper_lstm():\n",
    "    model = Sequential()\n",
    "    model.add(LSTM(32, input_shape = (600,6), return_sequences = True))\n",
    "    model.add(LSTM(64, return_sequences = True))\n",
    "    model.add(LSTM(128, return_sequences = True))\n",
    "    model.add(LSTM(256, return_sequences = False))\n",
    "    model.add(Dense(128, activation='relu'))\n",
    "    model.add(Dense(61, activation='softmax'))\n",
    "    \n",
    "    #adam = optimizers.adam(lr = 0.001)\n",
    "    model.compile(loss = 'categorical_crossentropy', optimizer = 'rmsprop', metrics = ['accuracy'])\n",
    "    return model"
   ]
  },
  {
   "cell_type": "code",
   "execution_count": null,
   "metadata": {},
   "outputs": [
    {
     "name": "stdout",
     "output_type": "stream",
     "text": [
      "Epoch 1/100\n",
      "79/79 [==============================] - 345s 4s/step - loss: 2.9934 - accuracy: 0.4674 - val_loss: 2.6531 - val_accuracy: 0.5024\n",
      "Epoch 2/100\n",
      "79/79 [==============================] - 321s 4s/step - loss: 2.6512 - accuracy: 0.4843 - val_loss: 2.5447 - val_accuracy: 0.5104\n",
      "Epoch 3/100\n",
      "79/79 [==============================] - 324s 4s/step - loss: 2.5263 - accuracy: 0.4858 - val_loss: 2.4732 - val_accuracy: 0.5088\n",
      "Epoch 4/100\n",
      "79/79 [==============================] - 319s 4s/step - loss: 2.4655 - accuracy: 0.4875 - val_loss: 2.4136 - val_accuracy: 0.5168\n",
      "Epoch 5/100\n",
      "79/79 [==============================] - 305s 4s/step - loss: 2.3196 - accuracy: 0.4979 - val_loss: 2.2404 - val_accuracy: 0.5264\n",
      "Epoch 6/100\n",
      "79/79 [==============================] - 312s 4s/step - loss: 2.2314 - accuracy: 0.5183 - val_loss: 2.2557 - val_accuracy: 0.5168\n",
      "Epoch 7/100\n",
      "79/79 [==============================] - 311s 4s/step - loss: 2.0842 - accuracy: 0.5165 - val_loss: 2.2253 - val_accuracy: 0.5360\n",
      "Epoch 8/100\n",
      "79/79 [==============================] - 336s 4s/step - loss: 2.0133 - accuracy: 0.5283 - val_loss: 2.0733 - val_accuracy: 0.5520\n",
      "Epoch 9/100\n",
      "79/79 [==============================] - 263s 3s/step - loss: 1.9140 - accuracy: 0.5429 - val_loss: 2.1449 - val_accuracy: 0.5712\n",
      "Epoch 10/100\n",
      "79/79 [==============================] - 272s 3s/step - loss: 1.9470 - accuracy: 0.5384 - val_loss: 2.1096 - val_accuracy: 0.5552\n",
      "Epoch 11/100\n",
      "79/79 [==============================] - 249s 3s/step - loss: 1.8118 - accuracy: 0.5700 - val_loss: 2.0214 - val_accuracy: 0.5584\n",
      "Epoch 12/100\n",
      "79/79 [==============================] - 249s 3s/step - loss: 1.8110 - accuracy: 0.5553 - val_loss: 2.0512 - val_accuracy: 0.5568\n",
      "Epoch 13/100\n",
      "79/79 [==============================] - 262s 3s/step - loss: 1.7548 - accuracy: 0.5556 - val_loss: 2.0338 - val_accuracy: 0.5552\n",
      "Epoch 14/100\n",
      "79/79 [==============================] - 271s 3s/step - loss: 1.7360 - accuracy: 0.5571 - val_loss: 2.0322 - val_accuracy: 0.5616\n",
      "Epoch 15/100\n",
      "79/79 [==============================] - 239s 3s/step - loss: 1.6720 - accuracy: 0.5782 - val_loss: 1.9598 - val_accuracy: 0.5488\n",
      "Epoch 16/100\n",
      "79/79 [==============================] - 247s 3s/step - loss: 1.6095 - accuracy: 0.5687 - val_loss: 2.0433 - val_accuracy: 0.5328\n",
      "Epoch 17/100\n",
      "79/79 [==============================] - 265s 3s/step - loss: 1.5856 - accuracy: 0.5701 - val_loss: 1.9702 - val_accuracy: 0.5696\n",
      "Epoch 18/100\n",
      "79/79 [==============================] - 257s 3s/step - loss: 1.4490 - accuracy: 0.6114 - val_loss: 2.0242 - val_accuracy: 0.5424\n",
      "Epoch 19/100\n",
      "79/79 [==============================] - 215s 3s/step - loss: 1.4934 - accuracy: 0.5948 - val_loss: 2.0132 - val_accuracy: 0.5456\n",
      "Epoch 20/100\n",
      "79/79 [==============================] - 187s 2s/step - loss: 1.4606 - accuracy: 0.6005 - val_loss: 2.0015 - val_accuracy: 0.5392\n",
      "Epoch 21/100\n",
      "79/79 [==============================] - 190s 2s/step - loss: 1.3231 - accuracy: 0.6148 - val_loss: 2.0677 - val_accuracy: 0.5552\n",
      "Epoch 22/100\n",
      " 4/79 [>.............................] - ETA: 2:41 - loss: 1.3475 - accuracy: 0.6354"
     ]
    }
   ],
   "source": [
    "model1 = deeper_lstm()\n",
    "hist = model1.fit(X,y, epochs=100, batch_size=32, verbose = 1,  validation_split=0.2, callbacks = [es])"
   ]
  },
  {
   "cell_type": "code",
   "execution_count": null,
   "metadata": {},
   "outputs": [],
   "source": [
    "test_X=tf.reshape(np.array(test.iloc[:,2:]),[-1, 600, 6])\n",
    "test_X.shape\n",
    "prediction=model1.predict(test_X)\n",
    "submission.iloc[:,1:]=prediction\n",
    "submission.to_csv('output/deeperLSTM_es_submission.csv', index=False)"
   ]
  },
  {
   "cell_type": "code",
   "execution_count": null,
   "metadata": {},
   "outputs": [],
   "source": [
    "%matplotlib inline\n",
    "import matplotlib.pyplot as plt\n",
    "\n",
    "fig, loss_ax = plt.subplots()\n",
    "\n",
    "acc_ax = loss_ax.twinx()\n",
    "\n",
    "loss_ax.plot(hist.history['loss'], 'y', label='train loss')\n",
    "loss_ax.plot(hist.history['val_loss'], 'r', label='val loss')\n",
    "\n",
    "acc_ax.plot(hist.history['acc'], 'b', label='train acc')\n",
    "acc_ax.plot(hist.history['val_acc'], 'g', label='val acc')\n",
    "\n",
    "loss_ax.set_xlabel('epoch')\n",
    "loss_ax.set_ylabel('loss')\n",
    "acc_ax.set_ylabel('accuray')\n",
    "\n",
    "loss_ax.legend(loc='upper left')\n",
    "acc_ax.legend(loc='lower left')\n",
    "\n",
    "plt.show()"
   ]
  }
 ],
 "metadata": {
  "kernelspec": {
   "display_name": "keras",
   "language": "python",
   "name": "keras"
  },
  "language_info": {
   "codemirror_mode": {
    "name": "ipython",
    "version": 3
   },
   "file_extension": ".py",
   "mimetype": "text/x-python",
   "name": "python",
   "nbconvert_exporter": "python",
   "pygments_lexer": "ipython3",
   "version": "3.8.5"
  }
 },
 "nbformat": 4,
 "nbformat_minor": 4
}
