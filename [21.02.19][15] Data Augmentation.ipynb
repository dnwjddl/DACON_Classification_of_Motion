{
 "cells": [
  {
   "cell_type": "code",
   "execution_count": 1,
   "metadata": {},
   "outputs": [],
   "source": [
    "import pandas as pd\n",
    "import numpy as np\n",
    "import random\n",
    "import matplotlib.pyplot as plt\n",
    "from tqdm import tqdm\n",
    "from glob import glob"
   ]
  },
  {
   "cell_type": "code",
   "execution_count": 2,
   "metadata": {},
   "outputs": [],
   "source": [
    "train = pd.read_csv('data/train_features.csv')\n",
    "train_labels = pd.read_csv('data/train_labels.csv')\n",
    "test = pd.read_csv('data/test_features.csv')\n",
    "submission = pd.read_csv('data/sample_submission.csv')"
   ]
  },
  {
   "cell_type": "code",
   "execution_count": 8,
   "metadata": {},
   "outputs": [
    {
     "data": {
      "text/plain": [
       "(1875000, 8)"
      ]
     },
     "execution_count": 8,
     "metadata": {},
     "output_type": "execute_result"
    }
   ],
   "source": [
    "train.shape"
   ]
  },
  {
   "cell_type": "code",
   "execution_count": 32,
   "metadata": {},
   "outputs": [
    {
     "name": "stderr",
     "output_type": "stream",
     "text": [
      "100%|█████████████████████████████████████████████████████████████████████████████| 3125/3125 [00:24<00:00, 127.56it/s]\n",
      "100%|███████████████████████████████████████████████████████████████████████████████| 782/782 [00:02<00:00, 301.50it/s]\n"
     ]
    }
   ],
   "source": [
    "x_train = []\n",
    "\n",
    "for uid in tqdm(train['id'].unique()):\n",
    "    temp = np.array(train[train['id'] == uid].iloc[:,2:], np.float32).T\n",
    "    x_train.append(temp)\n",
    "\n",
    "x_train = np.array(x_train, np.float32)\n",
    "# x_train = x_train[:,:,:,np.newaxis]\n",
    "\n",
    "x_test = []\n",
    "\n",
    "for uid in tqdm(test['id'].unique()):\n",
    "    temp = np.array(test[test['id'] == uid].iloc[:,2:], np.float32).T\n",
    "    x_test.append(temp)\n",
    "\n",
    "x_test = np.array(x_test, np.float32)\n",
    "# x_test = x_test[:,:,:,np.newaxis]"
   ]
  },
  {
   "cell_type": "code",
   "execution_count": 34,
   "metadata": {},
   "outputs": [],
   "source": [
    "def aug(data, uid, shift = 0):\n",
    "    shift_data = np.roll(data, shift, axis=2)\n",
    "    return shift_data"
   ]
  },
  {
   "cell_type": "code",
   "execution_count": 35,
   "metadata": {},
   "outputs": [
    {
     "name": "stdout",
     "output_type": "stream",
     "text": [
      "(3125, 6, 600)\n"
     ]
    }
   ],
   "source": [
    "shift_data = aug(x_train, 0 , int(random.random()*600))\n",
    "print(shift_data.shape)"
   ]
  },
  {
   "cell_type": "code",
   "execution_count": 36,
   "metadata": {},
   "outputs": [],
   "source": [
    "x=np.concatenate([x_train, shift_data], axis = 0)"
   ]
  },
  {
   "cell_type": "code",
   "execution_count": 42,
   "metadata": {},
   "outputs": [
    {
     "data": {
      "text/plain": [
       "(6250, 600, 6)"
      ]
     },
     "execution_count": 42,
     "metadata": {},
     "output_type": "execute_result"
    }
   ],
   "source": [
    "x = x.transpose(0,2,1)\n",
    "x.shape"
   ]
  },
  {
   "cell_type": "code",
   "execution_count": 44,
   "metadata": {},
   "outputs": [
    {
     "data": {
      "text/plain": [
       "(6250, 61)"
      ]
     },
     "execution_count": 44,
     "metadata": {},
     "output_type": "execute_result"
    }
   ],
   "source": [
    "import tensorflow as tf\n",
    "import numpy as np\n",
    "\n",
    "y = tf.keras.utils.to_categorical(train_labels['label']) \n",
    "y=np.concatenate([y, y], axis = 0)\n",
    "y.shape"
   ]
  },
  {
   "cell_type": "code",
   "execution_count": 45,
   "metadata": {},
   "outputs": [
    {
     "name": "stdout",
     "output_type": "stream",
     "text": [
      "Epoch 1/100\n",
      "157/157 [==============================] - 90s 380ms/step - loss: 2.7772 - accuracy: 0.4768 - val_loss: 2.3006 - val_accuracy: 0.5176\n",
      "Epoch 2/100\n",
      "157/157 [==============================] - 63s 401ms/step - loss: 2.2881 - accuracy: 0.5112 - val_loss: 2.0024 - val_accuracy: 0.5376\n",
      "Epoch 3/100\n",
      "157/157 [==============================] - 69s 438ms/step - loss: 1.9976 - accuracy: 0.5338 - val_loss: 1.9825 - val_accuracy: 0.5408\n",
      "Epoch 4/100\n",
      "157/157 [==============================] - 81s 515ms/step - loss: 1.9218 - accuracy: 0.5511 - val_loss: 1.8327 - val_accuracy: 0.5632\n",
      "Epoch 5/100\n",
      "157/157 [==============================] - 76s 488ms/step - loss: 1.8691 - accuracy: 0.5573 - val_loss: 1.7564 - val_accuracy: 0.5848\n",
      "Epoch 6/100\n",
      "157/157 [==============================] - 89s 565ms/step - loss: 1.7295 - accuracy: 0.5804 - val_loss: 2.1962 - val_accuracy: 0.5304\n",
      "Epoch 7/100\n",
      "157/157 [==============================] - 90s 571ms/step - loss: 1.9326 - accuracy: 0.5423 - val_loss: 1.6819 - val_accuracy: 0.5816\n",
      "Epoch 8/100\n",
      "157/157 [==============================] - 87s 557ms/step - loss: 1.6940 - accuracy: 0.5647 - val_loss: 1.5016 - val_accuracy: 0.6176\n",
      "Epoch 9/100\n",
      "157/157 [==============================] - 89s 567ms/step - loss: 1.5266 - accuracy: 0.6135 - val_loss: 1.4797 - val_accuracy: 0.6176\n",
      "Epoch 10/100\n",
      "157/157 [==============================] - 86s 548ms/step - loss: 1.4073 - accuracy: 0.6298 - val_loss: 1.2984 - val_accuracy: 0.6544\n",
      "Epoch 11/100\n",
      "157/157 [==============================] - 99s 632ms/step - loss: 1.2452 - accuracy: 0.6632 - val_loss: 1.2510 - val_accuracy: 0.6656\n",
      "Epoch 12/100\n",
      "157/157 [==============================] - 108s 685ms/step - loss: 1.2011 - accuracy: 0.6714 - val_loss: 1.1403 - val_accuracy: 0.6808\n",
      "Epoch 13/100\n",
      "157/157 [==============================] - 123s 781ms/step - loss: 1.1362 - accuracy: 0.6911 - val_loss: 1.3037 - val_accuracy: 0.6432\n",
      "Epoch 14/100\n",
      "157/157 [==============================] - 116s 742ms/step - loss: 1.1162 - accuracy: 0.6971 - val_loss: 1.1171 - val_accuracy: 0.6840\n",
      "Epoch 15/100\n",
      "157/157 [==============================] - 139s 882ms/step - loss: 1.0035 - accuracy: 0.7132 - val_loss: 0.9811 - val_accuracy: 0.7224\n",
      "Epoch 16/100\n",
      "157/157 [==============================] - 104s 662ms/step - loss: 0.9106 - accuracy: 0.7470 - val_loss: 0.9748 - val_accuracy: 0.7096\n",
      "Epoch 17/100\n",
      "157/157 [==============================] - 130s 831ms/step - loss: 0.8528 - accuracy: 0.7609 - val_loss: 0.9570 - val_accuracy: 0.7232\n",
      "Epoch 18/100\n",
      "157/157 [==============================] - 117s 743ms/step - loss: 0.7692 - accuracy: 0.7791 - val_loss: 0.8451 - val_accuracy: 0.7416\n",
      "Epoch 19/100\n",
      "157/157 [==============================] - 122s 781ms/step - loss: 0.6996 - accuracy: 0.7920 - val_loss: 0.8360 - val_accuracy: 0.7552\n",
      "Epoch 20/100\n",
      "157/157 [==============================] - 108s 685ms/step - loss: 0.6540 - accuracy: 0.8096 - val_loss: 0.7557 - val_accuracy: 0.7592\n",
      "Epoch 21/100\n",
      "157/157 [==============================] - 146s 930ms/step - loss: 0.6519 - accuracy: 0.8084 - val_loss: 0.7000 - val_accuracy: 0.7800\n",
      "Epoch 22/100\n",
      "157/157 [==============================] - 128s 817ms/step - loss: 0.6025 - accuracy: 0.8310 - val_loss: 0.6859 - val_accuracy: 0.7888\n",
      "Epoch 23/100\n",
      "157/157 [==============================] - 131s 837ms/step - loss: 0.4982 - accuracy: 0.8541 - val_loss: 0.7616 - val_accuracy: 0.7808\n",
      "Epoch 24/100\n",
      "157/157 [==============================] - 127s 808ms/step - loss: 0.5454 - accuracy: 0.8344 - val_loss: 0.7411 - val_accuracy: 0.7672\n",
      "Epoch 25/100\n",
      "157/157 [==============================] - 118s 754ms/step - loss: 0.5745 - accuracy: 0.8293 - val_loss: 0.6830 - val_accuracy: 0.7848\n",
      "Epoch 26/100\n",
      "157/157 [==============================] - 118s 750ms/step - loss: 0.4623 - accuracy: 0.8613 - val_loss: 0.5837 - val_accuracy: 0.8144\n",
      "Epoch 27/100\n",
      "157/157 [==============================] - 129s 819ms/step - loss: 0.3918 - accuracy: 0.8888 - val_loss: 0.6572 - val_accuracy: 0.7952\n",
      "Epoch 28/100\n",
      "157/157 [==============================] - 153s 971ms/step - loss: 0.3869 - accuracy: 0.8834 - val_loss: 0.5294 - val_accuracy: 0.8296\n",
      "Epoch 29/100\n",
      "157/157 [==============================] - 132s 838ms/step - loss: 0.3135 - accuracy: 0.9097 - val_loss: 0.5350 - val_accuracy: 0.8376\n",
      "Epoch 30/100\n",
      "157/157 [==============================] - 129s 819ms/step - loss: 0.3185 - accuracy: 0.9189 - val_loss: 0.5459 - val_accuracy: 0.8200\n",
      "Epoch 31/100\n",
      "157/157 [==============================] - 128s 816ms/step - loss: 0.3459 - accuracy: 0.8945 - val_loss: 0.5039 - val_accuracy: 0.8288\n",
      "Epoch 32/100\n",
      "157/157 [==============================] - 126s 801ms/step - loss: 0.2858 - accuracy: 0.9158 - val_loss: 0.4229 - val_accuracy: 0.8608\n",
      "Epoch 33/100\n",
      "157/157 [==============================] - 133s 846ms/step - loss: 0.2567 - accuracy: 0.9289 - val_loss: 0.3911 - val_accuracy: 0.8712\n",
      "Epoch 34/100\n",
      "157/157 [==============================] - 120s 763ms/step - loss: 0.2342 - accuracy: 0.9390 - val_loss: 0.4004 - val_accuracy: 0.8640\n",
      "Epoch 35/100\n",
      "157/157 [==============================] - 126s 805ms/step - loss: 0.2022 - accuracy: 0.9446 - val_loss: 0.3553 - val_accuracy: 0.8816\n",
      "Epoch 36/100\n",
      "157/157 [==============================] - 120s 763ms/step - loss: 0.1849 - accuracy: 0.9572 - val_loss: 0.3371 - val_accuracy: 0.8784\n",
      "Epoch 37/100\n",
      "157/157 [==============================] - 112s 714ms/step - loss: 0.1938 - accuracy: 0.9473 - val_loss: 0.4540 - val_accuracy: 0.8528\n",
      "Epoch 38/100\n",
      "157/157 [==============================] - 114s 727ms/step - loss: 0.2510 - accuracy: 0.9283 - val_loss: 0.3121 - val_accuracy: 0.8904\n",
      "Epoch 39/100\n",
      "157/157 [==============================] - 116s 737ms/step - loss: 0.1452 - accuracy: 0.9662 - val_loss: 0.3142 - val_accuracy: 0.9008\n",
      "Epoch 40/100\n",
      "157/157 [==============================] - 113s 720ms/step - loss: 0.1483 - accuracy: 0.9640 - val_loss: 0.2239 - val_accuracy: 0.9232\n",
      "Epoch 41/100\n",
      "157/157 [==============================] - 117s 743ms/step - loss: 0.1019 - accuracy: 0.9805 - val_loss: 0.2082 - val_accuracy: 0.9328\n",
      "Epoch 42/100\n",
      "157/157 [==============================] - 112s 713ms/step - loss: 0.1100 - accuracy: 0.9761 - val_loss: 0.4258 - val_accuracy: 0.8576\n",
      "Epoch 43/100\n",
      "157/157 [==============================] - 82s 519ms/step - loss: 0.2291 - accuracy: 0.9389 - val_loss: 0.5653 - val_accuracy: 0.8256\n",
      "Epoch 44/100\n",
      "157/157 [==============================] - 86s 549ms/step - loss: 0.2809 - accuracy: 0.9178 - val_loss: 0.3089 - val_accuracy: 0.8944\n",
      "Epoch 45/100\n",
      "157/157 [==============================] - 80s 511ms/step - loss: 0.1121 - accuracy: 0.9740 - val_loss: 0.2360 - val_accuracy: 0.9264\n",
      "Epoch 46/100\n",
      "157/157 [==============================] - 77s 492ms/step - loss: 0.0785 - accuracy: 0.9832 - val_loss: 0.2194 - val_accuracy: 0.9336\n",
      "Epoch 47/100\n",
      "157/157 [==============================] - 77s 489ms/step - loss: 0.0844 - accuracy: 0.9828 - val_loss: 0.2048 - val_accuracy: 0.9376\n",
      "Epoch 48/100\n",
      "157/157 [==============================] - 75s 479ms/step - loss: 0.0852 - accuracy: 0.9835 - val_loss: 0.2227 - val_accuracy: 0.9280\n",
      "Epoch 49/100\n",
      "157/157 [==============================] - 79s 501ms/step - loss: 0.0867 - accuracy: 0.9792 - val_loss: 0.2631 - val_accuracy: 0.9136\n",
      "Epoch 50/100\n",
      "157/157 [==============================] - 71s 450ms/step - loss: 0.1475 - accuracy: 0.9568 - val_loss: 0.1921 - val_accuracy: 0.9408\n",
      "Epoch 51/100\n",
      "157/157 [==============================] - 67s 427ms/step - loss: 0.0715 - accuracy: 0.9847 - val_loss: 0.1589 - val_accuracy: 0.9496\n",
      "Epoch 52/100\n",
      "157/157 [==============================] - 72s 457ms/step - loss: 0.0394 - accuracy: 0.9961 - val_loss: 0.1320 - val_accuracy: 0.9632\n",
      "Epoch 53/100\n",
      "157/157 [==============================] - 71s 453ms/step - loss: 0.0571 - accuracy: 0.9902 - val_loss: 0.2876 - val_accuracy: 0.9056\n",
      "Epoch 54/100\n",
      "157/157 [==============================] - 74s 469ms/step - loss: 0.1320 - accuracy: 0.9641 - val_loss: 0.4414 - val_accuracy: 0.8544\n",
      "Epoch 55/100\n",
      "157/157 [==============================] - 72s 456ms/step - loss: 0.1834 - accuracy: 0.9443 - val_loss: 0.2153 - val_accuracy: 0.9240\n",
      "Epoch 56/100\n",
      "157/157 [==============================] - 70s 445ms/step - loss: 0.0689 - accuracy: 0.9859 - val_loss: 0.1597 - val_accuracy: 0.9496\n",
      "Epoch 57/100\n",
      "157/157 [==============================] - 72s 458ms/step - loss: 0.0433 - accuracy: 0.9940 - val_loss: 0.2204 - val_accuracy: 0.9304\n",
      "Epoch 58/100\n",
      "157/157 [==============================] - 81s 515ms/step - loss: 0.1072 - accuracy: 0.9724 - val_loss: 0.3096 - val_accuracy: 0.8992\n",
      "Epoch 59/100\n",
      "157/157 [==============================] - 80s 511ms/step - loss: 0.1058 - accuracy: 0.9748 - val_loss: 0.2929 - val_accuracy: 0.9064\n",
      "Epoch 60/100\n",
      "157/157 [==============================] - 86s 547ms/step - loss: 0.1042 - accuracy: 0.9709 - val_loss: 0.2362 - val_accuracy: 0.9216\n",
      "Epoch 61/100\n",
      "157/157 [==============================] - 88s 562ms/step - loss: 0.0734 - accuracy: 0.9840 - val_loss: 0.2097 - val_accuracy: 0.9288\n",
      "Epoch 62/100\n",
      "157/157 [==============================] - 98s 624ms/step - loss: 0.1107 - accuracy: 0.9700 - val_loss: 0.2194 - val_accuracy: 0.9264\n",
      "Epoch 00062: early stopping\n"
     ]
    }
   ],
   "source": [
    "# 0. 사용할 패키지 불러오기\n",
    "from keras.datasets import reuters\n",
    "from keras.utils import np_utils\n",
    "from keras.preprocessing import sequence\n",
    "from keras.models import Sequential\n",
    "from keras.layers import Dense, Embedding, LSTM, Conv1D, GlobalMaxPooling1D, Conv2D, MaxPooling1D, Bidirectional, GRU\n",
    "from keras.layers import Flatten\n",
    "\n",
    "# 2. 모델 구성하기\n",
    "model = Sequential()\n",
    "model.add(Conv1D(128, 3, padding='same', activation='relu', strides=1))\n",
    "model.add(MaxPooling1D(pool_size=2))\n",
    "model.add(Conv1D(128, 3, padding='same', activation='relu', strides=1))\n",
    "model.add(MaxPooling1D(pool_size=2))\n",
    "model.add(Bidirectional(LSTM(32, return_sequences = True)))\n",
    "model.add(Bidirectional(LSTM(64, return_sequences = False)))\n",
    "model.add(Dense(61, activation='softmax'))\n",
    "\n",
    "# 3. 모델 학습과정 설정하기\n",
    "model.compile(loss='categorical_crossentropy', optimizer='adam', metrics=['accuracy'])\n",
    "\n",
    "from keras.callbacks import EarlyStopping\n",
    "es = EarlyStopping(monitor='val_loss', mode='min', verbose=1, patience=10)\n",
    "\n",
    "# 4. 모델 학습시키기\n",
    "hist = model.fit(x, y, epochs=100, batch_size=32,  validation_split=0.2, callbacks = [es])"
   ]
  },
  {
   "cell_type": "code",
   "execution_count": 46,
   "metadata": {
    "scrolled": true
   },
   "outputs": [
    {
     "data": {
      "image/png": "[encoded data removed]",
      "text/plain": [
       "<Figure size 432x288 with 2 Axes>"
      ]
     },
     "metadata": {
      "needs_background": "light"
     },
     "output_type": "display_data"
    }
   ],
   "source": [
    "%matplotlib inline\n",
    "import matplotlib.pyplot as plt\n",
    "\n",
    "fig, loss_ax = plt.subplots()\n",
    "\n",
    "acc_ax = loss_ax.twinx()\n",
    "\n",
    "loss_ax.plot(hist.history['loss'], 'y', label='train loss')\n",
    "loss_ax.plot(hist.history['val_loss'], 'r', label='val loss')\n",
    "\n",
    "acc_ax.plot(hist.history['accuracy'], 'b', label='train acc')\n",
    "acc_ax.plot(hist.history['val_accuracy'], 'g', label='val acc')\n",
    "\n",
    "loss_ax.set_xlabel('epoch')\n",
    "loss_ax.set_ylabel('loss')\n",
    "acc_ax.set_ylabel('accuray')\n",
    "\n",
    "loss_ax.legend(loc='upper left')\n",
    "acc_ax.legend(loc='lower left')\n",
    "\n",
    "plt.show()"
   ]
  },
  {
   "cell_type": "code",
   "execution_count": 47,
   "metadata": {},
   "outputs": [],
   "source": [
    "test_X=tf.reshape(np.array(test.iloc[:,2:]),[-1, 600, 6])\n",
    "prediction=model.predict(test_X)\n",
    "submission.iloc[:,1:]=prediction\n",
    "submission.to_csv('aug_cnn2_bilstm2.csv', index=False)"
   ]
  },
  {
   "cell_type": "code",
   "execution_count": 2,
   "metadata": {},
   "outputs": [
    {
     "ename": "NameError",
     "evalue": "name 'x' is not defined",
     "output_type": "error",
     "traceback": [
      "\u001b[1;31m---------------------------------------------------------------------------\u001b[0m",
      "\u001b[1;31mNameError\u001b[0m                                 Traceback (most recent call last)",
      "\u001b[1;32m<ipython-input-2-1ab7b7a96bed>\u001b[0m in \u001b[0;36m<module>\u001b[1;34m\u001b[0m\n\u001b[0;32m     24\u001b[0m \u001b[1;33m\u001b[0m\u001b[0m\n\u001b[0;32m     25\u001b[0m \u001b[1;31m# 4. 모델 학습시키기\u001b[0m\u001b[1;33m\u001b[0m\u001b[1;33m\u001b[0m\u001b[1;33m\u001b[0m\u001b[0m\n\u001b[1;32m---> 26\u001b[1;33m \u001b[0mhist\u001b[0m \u001b[1;33m=\u001b[0m \u001b[0mmodel\u001b[0m\u001b[1;33m.\u001b[0m\u001b[0mfit\u001b[0m\u001b[1;33m(\u001b[0m\u001b[0mx\u001b[0m\u001b[1;33m,\u001b[0m \u001b[0my\u001b[0m\u001b[1;33m,\u001b[0m \u001b[0mepochs\u001b[0m\u001b[1;33m=\u001b[0m\u001b[1;36m100\u001b[0m\u001b[1;33m,\u001b[0m \u001b[0mbatch_size\u001b[0m\u001b[1;33m=\u001b[0m\u001b[1;36m32\u001b[0m\u001b[1;33m,\u001b[0m \u001b[0mcallbacks\u001b[0m \u001b[1;33m=\u001b[0m \u001b[1;33m[\u001b[0m\u001b[0mes\u001b[0m\u001b[1;33m]\u001b[0m\u001b[1;33m,\u001b[0m  \u001b[0mvalidation_data\u001b[0m \u001b[1;33m=\u001b[0m \u001b[1;33m(\u001b[0m\u001b[0mx_val\u001b[0m\u001b[1;33m,\u001b[0m \u001b[0my_val\u001b[0m\u001b[1;33m)\u001b[0m\u001b[1;33m)\u001b[0m\u001b[1;33m\u001b[0m\u001b[1;33m\u001b[0m\u001b[0m\n\u001b[0m",
      "\u001b[1;31mNameError\u001b[0m: name 'x' is not defined"
     ]
    }
   ],
   "source": [
    "# 0. 사용할 패키지 불러오기\n",
    "from keras.datasets import reuters\n",
    "from keras.utils import np_utils\n",
    "from keras.preprocessing import sequence\n",
    "from keras.models import Sequential\n",
    "from keras.layers import Dense, Embedding, LSTM, Conv1D, GlobalMaxPooling1D, Conv2D, MaxPooling1D, Bidirectional, GRU\n",
    "from keras.layers import Flatten\n",
    "\n",
    "# 2. 모델 구성하기\n",
    "model = Sequential()\n",
    "model.add(Conv1D(128, 3, padding='same', activation='relu', strides=1))\n",
    "model.add(MaxPooling1D(pool_size=2))\n",
    "model.add(Conv1D(128, 3, padding='same', activation='relu', strides=1))\n",
    "model.add(MaxPooling1D(pool_size=2))\n",
    "model.add(LSTM(32, return_sequences = True))\n",
    "model.add(LSTM(64, return_sequences = False))\n",
    "model.add(Dense(61, activation='softmax'))\n",
    "\n",
    "# 3. 모델 학습과정 설정하기\n",
    "model.compile(loss='categorical_crossentropy', optimizer='adam', metrics=['accuracy'])\n",
    "\n",
    "from keras.callbacks import EarlyStopping\n",
    "es = EarlyStopping(monitor='val_loss', mode='min', verbose=1, patience=10)\n",
    "\n",
    "# 4. 모델 학습시키기\n",
    "hist = model.fit(x, y, epochs=100, batch_size=32, callbacks = [es],  validation_data = (x_val, y_val))"
   ]
  },
  {
   "cell_type": "code",
   "execution_count": null,
   "metadata": {},
   "outputs": [],
   "source": []
  }
 ],
 "metadata": {
  "kernelspec": {
   "display_name": "keras",
   "language": "python",
   "name": "keras"
  },
  "language_info": {
   "codemirror_mode": {
    "name": "ipython",
    "version": 3
   },
   "file_extension": ".py",
   "mimetype": "text/x-python",
   "name": "python",
   "nbconvert_exporter": "python",
   "pygments_lexer": "ipython3",
   "version": "3.8.5"
  }
 },
 "nbformat": 4,
 "nbformat_minor": 4
}
