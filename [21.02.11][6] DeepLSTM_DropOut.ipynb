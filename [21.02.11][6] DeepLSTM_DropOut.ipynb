{
 "cells": [
  {
   "cell_type": "code",
   "execution_count": 1,
   "metadata": {},
   "outputs": [],
   "source": [
    "import os\n",
    "import pandas as pd\n",
    "import numpy as np\n",
    "\n",
    "import tensorflow as tf"
   ]
  },
  {
   "cell_type": "code",
   "execution_count": 2,
   "metadata": {},
   "outputs": [],
   "source": [
    "train = pd.read_csv('data/train_features.csv')\n",
    "train_labels = pd.read_csv('data/train_labels.csv')\n",
    "test = pd.read_csv('data/test_features.csv')\n",
    "submission = pd.read_csv('data/sample_submission.csv')"
   ]
  },
  {
   "cell_type": "code",
   "execution_count": 3,
   "metadata": {},
   "outputs": [],
   "source": [
    "X=tf.reshape(np.array(train.iloc[:,2:]),[-1, 600, 6])\n",
    "y = tf.keras.utils.to_categorical(train_labels['label']) "
   ]
  },
  {
   "cell_type": "code",
   "execution_count": 7,
   "metadata": {},
   "outputs": [],
   "source": [
    "from keras.models import Sequential\n",
    "from keras.layers import Dense, Activation, LSTM, BatchNormalization, Dropout\n",
    "from keras import optimizers\n",
    "\n",
    "def deep_lstm():\n",
    "    model = Sequential()\n",
    "    model.add(LSTM(32, input_shape = (600,6), return_sequences = True))\n",
    "    model.add(Dropout(0.2)) \n",
    "    model.add(LSTM(64, return_sequences = True))\n",
    "    model.add(Dropout(0.2)) \n",
    "    model.add(LSTM(128, return_sequences = False))\n",
    "    model.add(Dropout(0.2)) \n",
    "    model.add(Dense(128, activation='relu'))\n",
    "    model.add(Dense(61, activation='softmax'))\n",
    "    \n",
    "    #adam = optimizers.adam(lr = 0.001)\n",
    "    model.compile(loss = 'categorical_crossentropy', optimizer = 'rmsprop', metrics = ['accuracy'])\n",
    "    return model"
   ]
  },
  {
   "cell_type": "code",
   "execution_count": 8,
   "metadata": {},
   "outputs": [],
   "source": [
    "from keras.callbacks import EarlyStopping\n",
    "es = EarlyStopping(monitor='val_loss', mode='min', verbose=1, patience=10)"
   ]
  },
  {
   "cell_type": "code",
   "execution_count": 9,
   "metadata": {},
   "outputs": [
    {
     "name": "stdout",
     "output_type": "stream",
     "text": [
      "Epoch 1/100\n",
      "79/79 [==============================] - 116s 1s/step - loss: 3.1541 - accuracy: 0.4173 - val_loss: 2.8159 - val_accuracy: 0.4944\n",
      "Epoch 2/100\n",
      "79/79 [==============================] - 122s 2s/step - loss: 2.6933 - accuracy: 0.4804 - val_loss: 2.5334 - val_accuracy: 0.4752\n",
      "Epoch 3/100\n",
      "79/79 [==============================] - 143s 2s/step - loss: 2.4496 - accuracy: 0.4904 - val_loss: 2.4830 - val_accuracy: 0.4784\n",
      "Epoch 4/100\n",
      "79/79 [==============================] - 143s 2s/step - loss: 2.4044 - accuracy: 0.4904 - val_loss: 2.3364 - val_accuracy: 0.5200\n",
      "Epoch 5/100\n",
      "79/79 [==============================] - 143s 2s/step - loss: 2.2453 - accuracy: 0.5216 - val_loss: 2.2582 - val_accuracy: 0.5232\n",
      "Epoch 6/100\n",
      "79/79 [==============================] - 132s 2s/step - loss: 2.1618 - accuracy: 0.5283 - val_loss: 2.1517 - val_accuracy: 0.5312\n",
      "Epoch 7/100\n",
      "79/79 [==============================] - 102s 1s/step - loss: 2.0974 - accuracy: 0.5141 - val_loss: 2.1387 - val_accuracy: 0.5328\n",
      "Epoch 8/100\n",
      "79/79 [==============================] - 97s 1s/step - loss: 2.0785 - accuracy: 0.5308 - val_loss: 2.1090 - val_accuracy: 0.5504\n",
      "Epoch 9/100\n",
      "79/79 [==============================] - 129s 2s/step - loss: 2.0292 - accuracy: 0.5346 - val_loss: 2.0779 - val_accuracy: 0.5584\n",
      "Epoch 10/100\n",
      "79/79 [==============================] - 173s 2s/step - loss: 1.9772 - accuracy: 0.5429 - val_loss: 2.0503 - val_accuracy: 0.5456\n",
      "Epoch 11/100\n",
      "79/79 [==============================] - 160s 2s/step - loss: 1.9802 - accuracy: 0.5415 - val_loss: 2.0213 - val_accuracy: 0.5712\n",
      "Epoch 12/100\n",
      "79/79 [==============================] - 173s 2s/step - loss: 1.9480 - accuracy: 0.5374 - val_loss: 2.0323 - val_accuracy: 0.5712\n",
      "Epoch 13/100\n",
      "79/79 [==============================] - 164s 2s/step - loss: 1.9138 - accuracy: 0.5404 - val_loss: 1.9832 - val_accuracy: 0.5744\n",
      "Epoch 14/100\n",
      "79/79 [==============================] - 172s 2s/step - loss: 1.9083 - accuracy: 0.5388 - val_loss: 1.9212 - val_accuracy: 0.5552\n",
      "Epoch 15/100\n",
      "79/79 [==============================] - 167s 2s/step - loss: 1.8163 - accuracy: 0.5685 - val_loss: 2.0410 - val_accuracy: 0.5376\n",
      "Epoch 16/100\n",
      "79/79 [==============================] - 171s 2s/step - loss: 1.7653 - accuracy: 0.5716 - val_loss: 2.0183 - val_accuracy: 0.5488\n",
      "Epoch 17/100\n",
      "79/79 [==============================] - 155s 2s/step - loss: 1.7603 - accuracy: 0.5570 - val_loss: 1.9501 - val_accuracy: 0.5696\n",
      "Epoch 18/100\n",
      "79/79 [==============================] - 162s 2s/step - loss: 1.7386 - accuracy: 0.5652 - val_loss: 1.9283 - val_accuracy: 0.5760\n",
      "Epoch 19/100\n",
      "79/79 [==============================] - 166s 2s/step - loss: 1.6629 - accuracy: 0.5745 - val_loss: 1.9472 - val_accuracy: 0.5520\n",
      "Epoch 20/100\n",
      "79/79 [==============================] - 165s 2s/step - loss: 1.6665 - accuracy: 0.5777 - val_loss: 1.9146 - val_accuracy: 0.5680\n",
      "Epoch 21/100\n",
      "79/79 [==============================] - 164s 2s/step - loss: 1.6292 - accuracy: 0.5920 - val_loss: 2.0569 - val_accuracy: 0.5472\n",
      "Epoch 22/100\n",
      "79/79 [==============================] - 166s 2s/step - loss: 1.6296 - accuracy: 0.5780 - val_loss: 1.9237 - val_accuracy: 0.5680\n",
      "Epoch 23/100\n",
      "79/79 [==============================] - 184s 2s/step - loss: 1.4906 - accuracy: 0.5997 - val_loss: 1.8412 - val_accuracy: 0.5808\n",
      "Epoch 24/100\n",
      "79/79 [==============================] - 175s 2s/step - loss: 1.4768 - accuracy: 0.6152 - val_loss: 2.0167 - val_accuracy: 0.5424\n",
      "Epoch 25/100\n",
      "79/79 [==============================] - 132s 2s/step - loss: 1.3881 - accuracy: 0.6175 - val_loss: 1.7992 - val_accuracy: 0.5888\n",
      "Epoch 26/100\n",
      "79/79 [==============================] - 129s 2s/step - loss: 1.3634 - accuracy: 0.6204 - val_loss: 2.0630 - val_accuracy: 0.5520\n",
      "Epoch 27/100\n",
      "79/79 [==============================] - 140s 2s/step - loss: 1.3594 - accuracy: 0.6288 - val_loss: 1.8790 - val_accuracy: 0.5952\n",
      "Epoch 28/100\n",
      "79/79 [==============================] - 138s 2s/step - loss: 1.3975 - accuracy: 0.6128 - val_loss: 1.8948 - val_accuracy: 0.5632\n",
      "Epoch 29/100\n",
      "79/79 [==============================] - 130s 2s/step - loss: 1.3792 - accuracy: 0.6249 - val_loss: 1.8023 - val_accuracy: 0.5872\n",
      "Epoch 30/100\n",
      "79/79 [==============================] - 129s 2s/step - loss: 1.2955 - accuracy: 0.6352 - val_loss: 1.9129 - val_accuracy: 0.5776\n",
      "Epoch 31/100\n",
      "79/79 [==============================] - 126s 2s/step - loss: 1.2424 - accuracy: 0.6503 - val_loss: 1.7966 - val_accuracy: 0.5792\n",
      "Epoch 32/100\n",
      "79/79 [==============================] - 126s 2s/step - loss: 1.1899 - accuracy: 0.6607 - val_loss: 2.5138 - val_accuracy: 0.3504\n",
      "Epoch 33/100\n",
      "79/79 [==============================] - 140s 2s/step - loss: 1.2339 - accuracy: 0.6420 - val_loss: 1.8539 - val_accuracy: 0.5744\n",
      "Epoch 34/100\n",
      "79/79 [==============================] - 134s 2s/step - loss: 1.1529 - accuracy: 0.6626 - val_loss: 1.7556 - val_accuracy: 0.6096\n",
      "Epoch 35/100\n",
      "79/79 [==============================] - 137s 2s/step - loss: 1.0769 - accuracy: 0.6909 - val_loss: 1.9128 - val_accuracy: 0.5792\n",
      "Epoch 36/100\n",
      "79/79 [==============================] - 130s 2s/step - loss: 1.1275 - accuracy: 0.6761 - val_loss: 1.9398 - val_accuracy: 0.5904\n",
      "Epoch 37/100\n",
      "79/79 [==============================] - 118s 1s/step - loss: 1.0998 - accuracy: 0.6827 - val_loss: 1.9097 - val_accuracy: 0.5728\n",
      "Epoch 38/100\n",
      "79/79 [==============================] - 114s 1s/step - loss: 0.9815 - accuracy: 0.7189 - val_loss: 1.9340 - val_accuracy: 0.5712\n",
      "Epoch 39/100\n",
      "79/79 [==============================] - 127s 2s/step - loss: 0.9382 - accuracy: 0.7186 - val_loss: 1.9180 - val_accuracy: 0.5808\n",
      "Epoch 40/100\n",
      "79/79 [==============================] - 135s 2s/step - loss: 0.9144 - accuracy: 0.7301 - val_loss: 1.9132 - val_accuracy: 0.5856\n",
      "Epoch 41/100\n",
      "79/79 [==============================] - 131s 2s/step - loss: 0.9060 - accuracy: 0.7483 - val_loss: 2.0214 - val_accuracy: 0.5776\n",
      "Epoch 42/100\n",
      "79/79 [==============================] - 138s 2s/step - loss: 0.8972 - accuracy: 0.7325 - val_loss: 1.9691 - val_accuracy: 0.5760\n",
      "Epoch 43/100\n",
      "79/79 [==============================] - 133s 2s/step - loss: 0.8555 - accuracy: 0.7434 - val_loss: 1.9508 - val_accuracy: 0.5712\n",
      "Epoch 44/100\n",
      "79/79 [==============================] - 124s 2s/step - loss: 0.8582 - accuracy: 0.7441 - val_loss: 1.9885 - val_accuracy: 0.5904\n",
      "Epoch 00044: early stopping\n"
     ]
    },
    {
     "data": {
      "text/plain": [
       "<tensorflow.python.keras.callbacks.History at 0x1e8b9092b50>"
      ]
     },
     "execution_count": 9,
     "metadata": {},
     "output_type": "execute_result"
    }
   ],
   "source": [
    "model1 = deep_lstm()\n",
    "hist = model1.fit(X,y, epochs=100, batch_size=32, verbose = 1,  validation_split=0.2, callbacks = [es])"
   ]
  },
  {
   "cell_type": "code",
   "execution_count": 10,
   "metadata": {},
   "outputs": [],
   "source": [
    "test_X=tf.reshape(np.array(test.iloc[:,2:]),[-1, 600, 6])\n",
    "test_X.shape\n",
    "prediction=model1.predict(test_X)\n",
    "submission.iloc[:,1:]=prediction\n",
    "submission.to_csv('output/deepLSTM_es_drop_submission.csv', index=False)"
   ]
  },
  {
   "cell_type": "code",
   "execution_count": null,
   "metadata": {},
   "outputs": [],
   "source": [
    "%matplotlib inline\n",
    "import matplotlib.pyplot as plt\n",
    "\n",
    "fig, loss_ax = plt.subplots()\n",
    "\n",
    "acc_ax = loss_ax.twinx()\n",
    "\n",
    "loss_ax.plot(hist.history['loss'], 'y', label='train loss')\n",
    "loss_ax.plot(hist.history['val_loss'], 'r', label='val loss')\n",
    "\n",
    "acc_ax.plot(hist.history['acc'], 'b', label='train acc')\n",
    "acc_ax.plot(hist.history['val_acc'], 'g', label='val acc')\n",
    "\n",
    "loss_ax.set_xlabel('epoch')\n",
    "loss_ax.set_ylabel('loss')\n",
    "acc_ax.set_ylabel('accuray')\n",
    "\n",
    "loss_ax.legend(loc='upper left')\n",
    "acc_ax.legend(loc='lower left')\n",
    "\n",
    "plt.show()"
   ]
  }
 ],
 "metadata": {
  "kernelspec": {
   "display_name": "keras",
   "language": "python",
   "name": "keras"
  },
  "language_info": {
   "codemirror_mode": {
    "name": "ipython",
    "version": 3
   },
   "file_extension": ".py",
   "mimetype": "text/x-python",
   "name": "python",
   "nbconvert_exporter": "python",
   "pygments_lexer": "ipython3",
   "version": "3.8.5"
  }
 },
 "nbformat": 4,
 "nbformat_minor": 4
}
