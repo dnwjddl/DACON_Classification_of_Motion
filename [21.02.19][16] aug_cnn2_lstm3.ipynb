{
 "cells": [
  {
   "cell_type": "code",
   "execution_count": 1,
   "metadata": {},
   "outputs": [],
   "source": [
    "import pandas as pd\n",
    "import numpy as np\n",
    "import random\n",
    "import matplotlib.pyplot as plt\n",
    "from tqdm import tqdm\n",
    "from glob import glob"
   ]
  },
  {
   "cell_type": "code",
   "execution_count": 2,
   "metadata": {},
   "outputs": [],
   "source": [
    "train = pd.read_csv('data/train_features.csv')\n",
    "train_labels = pd.read_csv('data/train_labels.csv')\n",
    "test = pd.read_csv('data/test_features.csv')\n",
    "submission = pd.read_csv('data/sample_submission.csv')"
   ]
  },
  {
   "cell_type": "code",
   "execution_count": 3,
   "metadata": {},
   "outputs": [
    {
     "data": {
      "text/plain": [
       "(1875000, 8)"
      ]
     },
     "execution_count": 3,
     "metadata": {},
     "output_type": "execute_result"
    }
   ],
   "source": [
    "train.shape"
   ]
  },
  {
   "cell_type": "code",
   "execution_count": 4,
   "metadata": {},
   "outputs": [
    {
     "name": "stderr",
     "output_type": "stream",
     "text": [
      "100%|██████████████████████████████████████████████████████████████████████████████| 3125/3125 [01:16<00:00, 41.08it/s]\n",
      "100%|████████████████████████████████████████████████████████████████████████████████| 782/782 [00:13<00:00, 58.70it/s]\n"
     ]
    }
   ],
   "source": [
    "x_train = []\n",
    "\n",
    "for uid in tqdm(train['id'].unique()):\n",
    "    temp = np.array(train[train['id'] == uid].iloc[:,2:], np.float32).T\n",
    "    x_train.append(temp)\n",
    "\n",
    "x_train = np.array(x_train, np.float32)\n",
    "# x_train = x_train[:,:,:,np.newaxis]\n",
    "\n",
    "x_test = []\n",
    "\n",
    "for uid in tqdm(test['id'].unique()):\n",
    "    temp = np.array(test[test['id'] == uid].iloc[:,2:], np.float32).T\n",
    "    x_test.append(temp)\n",
    "\n",
    "x_test = np.array(x_test, np.float32)\n",
    "# x_test = x_test[:,:,:,np.newaxis]"
   ]
  },
  {
   "cell_type": "code",
   "execution_count": 5,
   "metadata": {},
   "outputs": [],
   "source": [
    "def aug(data, uid, shift = 0):\n",
    "    shift_data = np.roll(data, shift, axis=2)\n",
    "    return shift_data"
   ]
  },
  {
   "cell_type": "code",
   "execution_count": 6,
   "metadata": {},
   "outputs": [
    {
     "name": "stdout",
     "output_type": "stream",
     "text": [
      "(3125, 6, 600)\n"
     ]
    }
   ],
   "source": [
    "shift_data = aug(x_train, 0 , int(random.random()*600))\n",
    "print(shift_data.shape)"
   ]
  },
  {
   "cell_type": "code",
   "execution_count": 7,
   "metadata": {},
   "outputs": [],
   "source": [
    "x=np.concatenate([x_train, shift_data], axis = 0)"
   ]
  },
  {
   "cell_type": "code",
   "execution_count": 8,
   "metadata": {},
   "outputs": [
    {
     "data": {
      "text/plain": [
       "(6250, 600, 6)"
      ]
     },
     "execution_count": 8,
     "metadata": {},
     "output_type": "execute_result"
    }
   ],
   "source": [
    "x = x.transpose(0,2,1)\n",
    "x.shape"
   ]
  },
  {
   "cell_type": "code",
   "execution_count": 9,
   "metadata": {},
   "outputs": [
    {
     "data": {
      "text/plain": [
       "(6250, 61)"
      ]
     },
     "execution_count": 9,
     "metadata": {},
     "output_type": "execute_result"
    }
   ],
   "source": [
    "import tensorflow as tf\n",
    "import numpy as np\n",
    "\n",
    "y = tf.keras.utils.to_categorical(train_labels['label']) \n",
    "y=np.concatenate([y, y], axis = 0)\n",
    "y.shape"
   ]
  },
  {
   "cell_type": "code",
   "execution_count": 10,
   "metadata": {},
   "outputs": [
    {
     "name": "stdout",
     "output_type": "stream",
     "text": [
      "Epoch 1/100\n",
      "157/157 [==============================] - 323s 831ms/step - loss: 2.8241 - accuracy: 0.4636 - val_loss: 2.2454 - val_accuracy: 0.5240\n",
      "Epoch 2/100\n",
      "157/157 [==============================] - 92s 585ms/step - loss: 2.1397 - accuracy: 0.5339 - val_loss: 2.0677 - val_accuracy: 0.5240\n",
      "Epoch 3/100\n",
      "157/157 [==============================] - 93s 595ms/step - loss: 2.0643 - accuracy: 0.5305 - val_loss: 1.9575 - val_accuracy: 0.5432\n",
      "Epoch 4/100\n",
      "157/157 [==============================] - 82s 523ms/step - loss: 1.9598 - accuracy: 0.5282 - val_loss: 1.8768 - val_accuracy: 0.5440\n",
      "Epoch 5/100\n",
      "157/157 [==============================] - 85s 542ms/step - loss: 1.7756 - accuracy: 0.5570 - val_loss: 1.7037 - val_accuracy: 0.5840\n",
      "Epoch 6/100\n",
      "157/157 [==============================] - 88s 563ms/step - loss: 1.6918 - accuracy: 0.5626 - val_loss: 1.5662 - val_accuracy: 0.5968\n",
      "Epoch 7/100\n",
      "157/157 [==============================] - 83s 529ms/step - loss: 1.4677 - accuracy: 0.6132 - val_loss: 1.4450 - val_accuracy: 0.6064\n",
      "Epoch 8/100\n",
      "157/157 [==============================] - 79s 506ms/step - loss: 1.3876 - accuracy: 0.6152 - val_loss: 1.4316 - val_accuracy: 0.6056\n",
      "Epoch 9/100\n",
      "157/157 [==============================] - 75s 480ms/step - loss: 1.2988 - accuracy: 0.6425 - val_loss: 1.3180 - val_accuracy: 0.6304\n",
      "Epoch 10/100\n",
      "157/157 [==============================] - 78s 495ms/step - loss: 1.1898 - accuracy: 0.6689 - val_loss: 1.3324 - val_accuracy: 0.6288\n",
      "Epoch 11/100\n",
      "157/157 [==============================] - 81s 518ms/step - loss: 1.1354 - accuracy: 0.6765 - val_loss: 1.2423 - val_accuracy: 0.6560\n",
      "Epoch 12/100\n",
      "157/157 [==============================] - 96s 611ms/step - loss: 1.1233 - accuracy: 0.6863 - val_loss: 1.3124 - val_accuracy: 0.6360\n",
      "Epoch 13/100\n",
      "157/157 [==============================] - 97s 622ms/step - loss: 1.0241 - accuracy: 0.7110 - val_loss: 1.0251 - val_accuracy: 0.7040\n",
      "Epoch 14/100\n",
      "157/157 [==============================] - 95s 606ms/step - loss: 0.8871 - accuracy: 0.7414 - val_loss: 1.0466 - val_accuracy: 0.6952\n",
      "Epoch 15/100\n",
      "157/157 [==============================] - 83s 532ms/step - loss: 0.8503 - accuracy: 0.7563 - val_loss: 0.9374 - val_accuracy: 0.7176\n",
      "Epoch 16/100\n",
      "157/157 [==============================] - 81s 516ms/step - loss: 0.7872 - accuracy: 0.7594 - val_loss: 0.8724 - val_accuracy: 0.7432\n",
      "Epoch 17/100\n",
      "157/157 [==============================] - 84s 534ms/step - loss: 0.6893 - accuracy: 0.7968 - val_loss: 0.8919 - val_accuracy: 0.7400\n",
      "Epoch 18/100\n",
      "157/157 [==============================] - 84s 538ms/step - loss: 0.6839 - accuracy: 0.7923 - val_loss: 0.8749 - val_accuracy: 0.7448\n",
      "Epoch 19/100\n",
      "157/157 [==============================] - 84s 534ms/step - loss: 0.5909 - accuracy: 0.8197 - val_loss: 0.8554 - val_accuracy: 0.7464\n",
      "Epoch 20/100\n",
      "157/157 [==============================] - 87s 554ms/step - loss: 0.5518 - accuracy: 0.8329 - val_loss: 0.7601 - val_accuracy: 0.7672\n",
      "Epoch 21/100\n",
      "157/157 [==============================] - 80s 511ms/step - loss: 0.5079 - accuracy: 0.8430 - val_loss: 0.7753 - val_accuracy: 0.7632\n",
      "Epoch 22/100\n",
      "157/157 [==============================] - 79s 506ms/step - loss: 0.4673 - accuracy: 0.8514 - val_loss: 0.6798 - val_accuracy: 0.7800\n",
      "Epoch 23/100\n",
      "157/157 [==============================] - 80s 510ms/step - loss: 0.4222 - accuracy: 0.8684 - val_loss: 0.6171 - val_accuracy: 0.7936\n",
      "Epoch 24/100\n",
      "157/157 [==============================] - 82s 524ms/step - loss: 0.4236 - accuracy: 0.8778 - val_loss: 0.6544 - val_accuracy: 0.7968\n",
      "Epoch 25/100\n",
      "157/157 [==============================] - 74s 472ms/step - loss: 0.3850 - accuracy: 0.8769 - val_loss: 0.6473 - val_accuracy: 0.8000\n",
      "Epoch 26/100\n",
      "157/157 [==============================] - 78s 499ms/step - loss: 0.3353 - accuracy: 0.9044 - val_loss: 0.6247 - val_accuracy: 0.7936\n",
      "Epoch 27/100\n",
      "157/157 [==============================] - 72s 461ms/step - loss: 0.3224 - accuracy: 0.8965 - val_loss: 0.5649 - val_accuracy: 0.8112\n",
      "Epoch 28/100\n",
      "157/157 [==============================] - 73s 463ms/step - loss: 0.2638 - accuracy: 0.9198 - val_loss: 0.5143 - val_accuracy: 0.8168\n",
      "Epoch 29/100\n",
      "157/157 [==============================] - 72s 457ms/step - loss: 0.2466 - accuracy: 0.9278 - val_loss: 0.6134 - val_accuracy: 0.7960\n",
      "Epoch 30/100\n",
      "157/157 [==============================] - 78s 496ms/step - loss: 0.2321 - accuracy: 0.9349 - val_loss: 0.5171 - val_accuracy: 0.8168\n",
      "Epoch 31/100\n",
      "157/157 [==============================] - 74s 474ms/step - loss: 0.2245 - accuracy: 0.9329 - val_loss: 0.5491 - val_accuracy: 0.8072\n",
      "Epoch 32/100\n",
      "157/157 [==============================] - 71s 450ms/step - loss: 0.2210 - accuracy: 0.9379 - val_loss: 0.5598 - val_accuracy: 0.8104\n",
      "Epoch 33/100\n",
      "157/157 [==============================] - 77s 493ms/step - loss: 0.2099 - accuracy: 0.9396 - val_loss: 0.4939 - val_accuracy: 0.8424\n",
      "Epoch 34/100\n",
      "157/157 [==============================] - 73s 463ms/step - loss: 0.1743 - accuracy: 0.9506 - val_loss: 0.5576 - val_accuracy: 0.8280\n",
      "Epoch 35/100\n",
      "157/157 [==============================] - 67s 425ms/step - loss: 0.2892 - accuracy: 0.9120 - val_loss: 0.5467 - val_accuracy: 0.8152\n",
      "Epoch 36/100\n",
      "157/157 [==============================] - 54s 346ms/step - loss: 0.1806 - accuracy: 0.9534 - val_loss: 0.5042 - val_accuracy: 0.8264\n",
      "Epoch 37/100\n",
      "157/157 [==============================] - 53s 340ms/step - loss: 0.1306 - accuracy: 0.9705 - val_loss: 0.3801 - val_accuracy: 0.8744\n",
      "Epoch 38/100\n",
      "157/157 [==============================] - 55s 351ms/step - loss: 0.1222 - accuracy: 0.9726 - val_loss: 0.4446 - val_accuracy: 0.8392\n",
      "Epoch 39/100\n",
      "157/157 [==============================] - 52s 329ms/step - loss: 0.1447 - accuracy: 0.9617 - val_loss: 0.3815 - val_accuracy: 0.8720\n",
      "Epoch 40/100\n",
      "157/157 [==============================] - 49s 312ms/step - loss: 0.1175 - accuracy: 0.9691 - val_loss: 0.4308 - val_accuracy: 0.8520\n",
      "Epoch 41/100\n",
      "157/157 [==============================] - 49s 313ms/step - loss: 0.1042 - accuracy: 0.9761 - val_loss: 0.3510 - val_accuracy: 0.8832\n",
      "Epoch 42/100\n",
      "157/157 [==============================] - 49s 315ms/step - loss: 0.0647 - accuracy: 0.9903 - val_loss: 0.3273 - val_accuracy: 0.8904\n",
      "Epoch 43/100\n",
      "157/157 [==============================] - 50s 322ms/step - loss: 0.0464 - accuracy: 0.9937 - val_loss: 0.3195 - val_accuracy: 0.8880\n",
      "Epoch 44/100\n",
      "157/157 [==============================] - 44s 282ms/step - loss: 0.0392 - accuracy: 0.9934 - val_loss: 0.3256 - val_accuracy: 0.8920\n",
      "Epoch 45/100\n",
      "157/157 [==============================] - 55s 348ms/step - loss: 0.0476 - accuracy: 0.9929 - val_loss: 0.3197 - val_accuracy: 0.8928\n",
      "Epoch 46/100\n",
      "157/157 [==============================] - 41s 258ms/step - loss: 0.1007 - accuracy: 0.9766 - val_loss: 0.8264 - val_accuracy: 0.7568\n",
      "Epoch 47/100\n",
      "157/157 [==============================] - 47s 297ms/step - loss: 0.4012 - accuracy: 0.8755 - val_loss: 0.6716 - val_accuracy: 0.7880\n",
      "Epoch 48/100\n",
      "157/157 [==============================] - 42s 269ms/step - loss: 0.2998 - accuracy: 0.9034 - val_loss: 0.4741 - val_accuracy: 0.8480\n",
      "Epoch 49/100\n",
      "157/157 [==============================] - 40s 255ms/step - loss: 0.1565 - accuracy: 0.9528 - val_loss: 0.3531 - val_accuracy: 0.8768\n",
      "Epoch 50/100\n",
      "157/157 [==============================] - 49s 312ms/step - loss: 0.0661 - accuracy: 0.9877 - val_loss: 0.3529 - val_accuracy: 0.8888\n",
      "Epoch 51/100\n",
      "157/157 [==============================] - 41s 261ms/step - loss: 0.0435 - accuracy: 0.9959 - val_loss: 0.3113 - val_accuracy: 0.8992\n",
      "Epoch 52/100\n",
      "157/157 [==============================] - 46s 295ms/step - loss: 0.0334 - accuracy: 0.9967 - val_loss: 0.2893 - val_accuracy: 0.9064\n",
      "Epoch 53/100\n",
      "157/157 [==============================] - 43s 276ms/step - loss: 0.0250 - accuracy: 0.9966 - val_loss: 0.2558 - val_accuracy: 0.9128\n",
      "Epoch 54/100\n",
      "157/157 [==============================] - 48s 303ms/step - loss: 0.0159 - accuracy: 0.9992 - val_loss: 0.2356 - val_accuracy: 0.9272\n",
      "Epoch 55/100\n",
      "157/157 [==============================] - 46s 291ms/step - loss: 0.0131 - accuracy: 0.9990 - val_loss: 0.2456 - val_accuracy: 0.9184\n",
      "Epoch 56/100\n",
      "157/157 [==============================] - 45s 287ms/step - loss: 0.0096 - accuracy: 0.9996 - val_loss: 0.2453 - val_accuracy: 0.9240\n"
     ]
    },
    {
     "name": "stdout",
     "output_type": "stream",
     "text": [
      "Epoch 57/100\n",
      "157/157 [==============================] - 42s 267ms/step - loss: 0.0098 - accuracy: 0.9994 - val_loss: 0.2482 - val_accuracy: 0.9200\n",
      "Epoch 58/100\n",
      "157/157 [==============================] - 47s 297ms/step - loss: 0.0076 - accuracy: 0.9997 - val_loss: 0.2350 - val_accuracy: 0.9248\n",
      "Epoch 59/100\n",
      "157/157 [==============================] - 51s 325ms/step - loss: 0.0053 - accuracy: 1.0000 - val_loss: 0.2281 - val_accuracy: 0.9288\n",
      "Epoch 60/100\n",
      "157/157 [==============================] - 51s 328ms/step - loss: 0.0047 - accuracy: 0.9999 - val_loss: 0.2283 - val_accuracy: 0.9264\n",
      "Epoch 61/100\n",
      "157/157 [==============================] - 51s 326ms/step - loss: 0.0046 - accuracy: 0.9999 - val_loss: 0.2276 - val_accuracy: 0.9264\n",
      "Epoch 62/100\n",
      "157/157 [==============================] - 52s 333ms/step - loss: 0.0046 - accuracy: 0.9991 - val_loss: 0.2311 - val_accuracy: 0.9288\n",
      "Epoch 63/100\n",
      "157/157 [==============================] - 53s 339ms/step - loss: 0.0041 - accuracy: 0.9994 - val_loss: 0.2275 - val_accuracy: 0.9264\n",
      "Epoch 64/100\n",
      "157/157 [==============================] - 51s 327ms/step - loss: 0.0039 - accuracy: 0.9995 - val_loss: 0.2302 - val_accuracy: 0.9256\n",
      "Epoch 65/100\n",
      "157/157 [==============================] - 66s 424ms/step - loss: 0.0028 - accuracy: 0.9999 - val_loss: 0.2269 - val_accuracy: 0.9272\n",
      "Epoch 66/100\n",
      "157/157 [==============================] - 62s 398ms/step - loss: 0.0029 - accuracy: 0.9996 - val_loss: 0.2333 - val_accuracy: 0.9248\n",
      "Epoch 67/100\n",
      "157/157 [==============================] - 42s 270ms/step - loss: 0.0030 - accuracy: 0.9997 - val_loss: 0.2344 - val_accuracy: 0.9272\n",
      "Epoch 68/100\n",
      "157/157 [==============================] - 35s 221ms/step - loss: 0.0026 - accuracy: 0.9998 - val_loss: 0.2763 - val_accuracy: 0.9088\n",
      "Epoch 69/100\n",
      "157/157 [==============================] - 31s 198ms/step - loss: 0.4939 - accuracy: 0.8725 - val_loss: 1.0455 - val_accuracy: 0.7120\n",
      "Epoch 70/100\n",
      "157/157 [==============================] - 45s 285ms/step - loss: 0.6179 - accuracy: 0.8067 - val_loss: 0.8106 - val_accuracy: 0.7632\n",
      "Epoch 71/100\n",
      "157/157 [==============================] - 38s 244ms/step - loss: 0.4504 - accuracy: 0.8501 - val_loss: 0.6377 - val_accuracy: 0.8032\n",
      "Epoch 72/100\n",
      "157/157 [==============================] - 37s 238ms/step - loss: 0.2729 - accuracy: 0.9132 - val_loss: 0.5543 - val_accuracy: 0.8184\n",
      "Epoch 73/100\n",
      "157/157 [==============================] - 39s 251ms/step - loss: 0.2165 - accuracy: 0.9348 - val_loss: 0.4975 - val_accuracy: 0.8368\n",
      "Epoch 74/100\n",
      "157/157 [==============================] - 39s 251ms/step - loss: 0.1256 - accuracy: 0.9638 - val_loss: 0.3930 - val_accuracy: 0.8736\n",
      "Epoch 75/100\n",
      "157/157 [==============================] - 39s 250ms/step - loss: 0.0772 - accuracy: 0.9793 - val_loss: 0.4014 - val_accuracy: 0.8664\n",
      "Epoch 00075: early stopping\n"
     ]
    }
   ],
   "source": [
    "# 0. 사용할 패키지 불러오기\n",
    "from keras.datasets import reuters\n",
    "from keras.utils import np_utils\n",
    "from keras.preprocessing import sequence\n",
    "from keras.models import Sequential\n",
    "from keras.layers import Dense, Embedding, LSTM, Conv1D, GlobalMaxPooling1D, Conv2D, MaxPooling1D, Bidirectional, GRU\n",
    "from keras.layers import Flatten\n",
    "\n",
    "# 2. 모델 구성하기\n",
    "model = Sequential()\n",
    "model.add(Conv1D(128, 3, padding='same', activation='relu', strides=1))\n",
    "model.add(MaxPooling1D(pool_size=2))\n",
    "model.add(Conv1D(128, 3, padding='same', activation='relu', strides=1))\n",
    "model.add(MaxPooling1D(pool_size=2))\n",
    "model.add(Conv1D(128, 3, padding='same', activation='relu', strides=1))\n",
    "model.add(MaxPooling1D(pool_size=2))\n",
    "model.add(Bidirectional(LSTM(32, return_sequences = True)))\n",
    "model.add(Bidirectional(LSTM(64, return_sequences = False)))\n",
    "model.add(Dense(61, activation='softmax'))\n",
    "\n",
    "# 3. 모델 학습과정 설정하기\n",
    "model.compile(loss='categorical_crossentropy', optimizer='adam', metrics=['accuracy'])\n",
    "\n",
    "from keras.callbacks import EarlyStopping\n",
    "es = EarlyStopping(monitor='val_loss', mode='min', verbose=1, patience=10)\n",
    "\n",
    "# 4. 모델 학습시키기\n",
    "hist = model.fit(x, y, epochs=100, batch_size=32,  validation_split=0.2, callbacks = [es])"
   ]
  },
  {
   "cell_type": "code",
   "execution_count": 11,
   "metadata": {},
   "outputs": [
    {
     "data": {
      "image/png": "[encoded data removed]",
      "text/plain": [
       "<Figure size 432x288 with 2 Axes>"
      ]
     },
     "metadata": {
      "needs_background": "light"
     },
     "output_type": "display_data"
    }
   ],
   "source": [
    "%matplotlib inline\n",
    "import matplotlib.pyplot as plt\n",
    "\n",
    "fig, loss_ax = plt.subplots()\n",
    "\n",
    "acc_ax = loss_ax.twinx()\n",
    "\n",
    "loss_ax.plot(hist.history['loss'], 'y', label='train loss')\n",
    "loss_ax.plot(hist.history['val_loss'], 'r', label='val loss')\n",
    "\n",
    "acc_ax.plot(hist.history['accuracy'], 'b', label='train acc')\n",
    "acc_ax.plot(hist.history['val_accuracy'], 'g', label='val acc')\n",
    "\n",
    "loss_ax.set_xlabel('epoch')\n",
    "loss_ax.set_ylabel('loss')\n",
    "acc_ax.set_ylabel('accuray')\n",
    "\n",
    "loss_ax.legend(loc='upper left')\n",
    "acc_ax.legend(loc='lower left')\n",
    "\n",
    "plt.show()"
   ]
  },
  {
   "cell_type": "code",
   "execution_count": 12,
   "metadata": {},
   "outputs": [],
   "source": [
    "test_X=tf.reshape(np.array(test.iloc[:,2:]),[-1, 600, 6])\n",
    "prediction=model.predict(test_X)\n",
    "submission.iloc[:,1:]=prediction\n",
    "submission.to_csv('aug_cnn3_bilstm2.csv', index=False)"
   ]
  },
  {
   "cell_type": "code",
   "execution_count": null,
   "metadata": {},
   "outputs": [],
   "source": []
  }
 ],
 "metadata": {
  "kernelspec": {
   "display_name": "keras",
   "language": "python",
   "name": "keras"
  },
  "language_info": {
   "codemirror_mode": {
    "name": "ipython",
    "version": 3
   },
   "file_extension": ".py",
   "mimetype": "text/x-python",
   "name": "python",
   "nbconvert_exporter": "python",
   "pygments_lexer": "ipython3",
   "version": "3.8.5"
  }
 },
 "nbformat": 4,
 "nbformat_minor": 4
}
